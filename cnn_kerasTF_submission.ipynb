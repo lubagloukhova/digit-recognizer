{
 "cells": [
  {
   "cell_type": "markdown",
   "metadata": {
    "_cell_guid": "d4c08f48-fe23-4ddb-ac46-d97f05397514",
    "_uuid": "f2156d1dd26a1243e18512002e10872c5bd7271e"
   },
   "source": [
    "# CNN w/ Keras on TF\n",
    "## Now that we have identified the best model architecture let's output  predicted va;ues for the test for submission!\n",
    "Since we did not pickle our actual model objectc (just the training history, we'kk need to retrain our model and just generate predc="
   ]
  },
  {
   "cell_type": "markdown",
   "metadata": {},
   "source": [
    "# Set up"
   ]
  },
  {
   "cell_type": "code",
   "execution_count": 213,
   "metadata": {},
   "outputs": [],
   "source": [
    "import pandas as pd\n",
    "import numpy as np\n",
    "import matplotlib.pyplot as plt\n",
    "import matplotlib.image as mpimg\n",
    "import seaborn as sns\n",
    "from scipy import stats\n",
    "import random\n",
    "import cPickle as pickle\n",
    "\n",
    "%matplotlib inline\n",
    "\n",
    "from sklearn.model_selection import train_test_split\n",
    "from sklearn.metrics import confusion_matrix\n",
    "import itertools\n",
    "\n",
    "# from keras.utils.np_utils import to_categorical # convert to one-hot-encoding\n",
    "from keras.utils import to_categorical # For keras > 2.0\n",
    "from keras.models import Sequential\n",
    "from keras.layers import Dense, Dropout, Flatten, Conv2D, MaxPool2D\n",
    "from keras.optimizers import RMSprop\n",
    "from keras.preprocessing.image import ImageDataGenerator\n",
    "from keras.callbacks import ReduceLROnPlateau\n",
    "\n",
    "#for model3\n",
    "from keras.optimizers import Adam\n",
    "from keras.layers.normalization import BatchNormalization\n",
    "from keras.layers import Activation"
   ]
  },
  {
   "cell_type": "markdown",
   "metadata": {},
   "source": [
    "# Data Preprocessing"
   ]
  },
  {
   "cell_type": "code",
   "execution_count": 203,
   "metadata": {},
   "outputs": [],
   "source": [
    "train = pd.read_csv(\"~/.kaggle/competitions/digit-recognizer/train.csv\")\n",
    "test = pd.read_csv(\"~/.kaggle/competitions/digit-recognizer/test.csv\")"
   ]
  },
  {
   "cell_type": "code",
   "execution_count": 204,
   "metadata": {},
   "outputs": [],
   "source": [
    "Y_train = train[\"label\"]\n",
    "X_train = train.drop(labels = [\"label\"],axis = 1) \n",
    "\n",
    "del train "
   ]
  },
  {
   "cell_type": "markdown",
   "metadata": {},
   "source": [
    "*\"Each image is 28 pixels in height and 28 pixels in width, for a total of 784 pixels in total. Each pixel has a single pixel-value associated with it, indicating the lightness or darkness of that pixel, with higher numbers meaning darker. This pixel-value is an integer between 0 and 255, inclusive.\"*"
   ]
  },
  {
   "cell_type": "code",
   "execution_count": 205,
   "metadata": {},
   "outputs": [
    {
     "name": "stdout",
     "output_type": "stream",
     "text": [
      "(42000,)\n",
      "(42000, 784)\n"
     ]
    }
   ],
   "source": [
    "print(Y_train.shape)\n",
    "print(X_train.shape)"
   ]
  },
  {
   "cell_type": "code",
   "execution_count": 206,
   "metadata": {},
   "outputs": [
    {
     "name": "stdout",
     "output_type": "stream",
     "text": [
      "0\n",
      "255\n"
     ]
    }
   ],
   "source": [
    "print(X_train.min().min())\n",
    "print(X_train.max().max())\n",
    "# print(X_train.shape)"
   ]
  },
  {
   "cell_type": "markdown",
   "metadata": {},
   "source": [
    "We reshape the data from pandas.Dataframes of 1D vectors of 784 values to 3D (28x28x1) matrices. The 3rd dim is req'd by Keras, corresponding to channels. Since MNIST images are gray scaled, so it uses only one channel (as opposed to RGB images having 3 channels). "
   ]
  },
  {
   "cell_type": "code",
   "execution_count": 207,
   "metadata": {},
   "outputs": [],
   "source": [
    "X_train = X_train.values.reshape(-1,28,28,1)\n",
    "test = test.values.reshape(-1,28,28,1)"
   ]
  },
  {
   "cell_type": "markdown",
   "metadata": {},
   "source": [
    "We encode Y_train (training labels) to one hot vectors (ex : 2 -> [0,0,1,0,0,0,0,0,0,0])"
   ]
  },
  {
   "cell_type": "code",
   "execution_count": 208,
   "metadata": {},
   "outputs": [
    {
     "name": "stdout",
     "output_type": "stream",
     "text": [
      "(42000,)\n",
      "count    42000.000000\n",
      "mean         4.456643\n",
      "std          2.887730\n",
      "min          0.000000\n",
      "25%          2.000000\n",
      "50%          4.000000\n",
      "75%          7.000000\n",
      "max          9.000000\n",
      "Name: label, dtype: float64\n",
      "[1 0 1 4 0]\n"
     ]
    }
   ],
   "source": [
    "print(Y_train.shape)\n",
    "print(Y_train.describe())\n",
    "print(np.array(Y_train.head()))"
   ]
  },
  {
   "cell_type": "code",
   "execution_count": 209,
   "metadata": {},
   "outputs": [],
   "source": [
    "Y_train = to_categorical(Y_train, num_classes = 10)"
   ]
  },
  {
   "cell_type": "code",
   "execution_count": 210,
   "metadata": {},
   "outputs": [
    {
     "name": "stdout",
     "output_type": "stream",
     "text": [
      "(42000, 10)\n",
      "                  0             1             2             3             4  \\\n",
      "count  42000.000000  42000.000000  42000.000000  42000.000000  42000.000000   \n",
      "mean       0.098381      0.111524      0.099452      0.103595      0.096952   \n",
      "std        0.297833      0.314783      0.299272      0.304738      0.295896   \n",
      "min        0.000000      0.000000      0.000000      0.000000      0.000000   \n",
      "25%        0.000000      0.000000      0.000000      0.000000      0.000000   \n",
      "50%        0.000000      0.000000      0.000000      0.000000      0.000000   \n",
      "75%        0.000000      0.000000      0.000000      0.000000      0.000000   \n",
      "max        1.000000      1.000000      1.000000      1.000000      1.000000   \n",
      "\n",
      "                  5             6             7             8             9  \n",
      "count  42000.000000  42000.000000  42000.000000  42000.000000  42000.000000  \n",
      "mean       0.090357      0.098500      0.104786      0.096738      0.099714  \n",
      "std        0.286696      0.297993      0.306281      0.295604      0.299622  \n",
      "min        0.000000      0.000000      0.000000      0.000000      0.000000  \n",
      "25%        0.000000      0.000000      0.000000      0.000000      0.000000  \n",
      "50%        0.000000      0.000000      0.000000      0.000000      0.000000  \n",
      "75%        0.000000      0.000000      0.000000      0.000000      0.000000  \n",
      "max        1.000000      1.000000      1.000000      1.000000      1.000000  \n"
     ]
    }
   ],
   "source": [
    "print(Y_train.shape)\n",
    "print(pd.DataFrame(Y_train).describe())"
   ]
  },
  {
   "cell_type": "markdown",
   "metadata": {
    "_cell_guid": "ae068bd8-b12e-4768-8a7e-0fc865dd7562",
    "_uuid": "dcfb688587dfc6feafd27442a3505e35dc01b82d"
   },
   "source": [
    "Labels are 10 digits numbers from 0 to 9. We need to encode these lables to one hot vectors (ex : 2 -> [0,0,1,0,0,0,0,0,0,0])."
   ]
  },
  {
   "cell_type": "markdown",
   "metadata": {
    "_cell_guid": "32152fc3-a570-4d64-8a7d-6c689a4acd33",
    "_uuid": "d8abbbf31483b94e1b29d07c4c8253d1311648a7"
   },
   "source": [
    "We split training and valdiation set "
   ]
  },
  {
   "cell_type": "code",
   "execution_count": 211,
   "metadata": {
    "_cell_guid": "3a698301-9759-4279-ae48-fd980f89ea53",
    "_execution_state": "idle",
    "_uuid": "6e51c925c6e0f1b936679c9649fef345c853555f"
   },
   "outputs": [],
   "source": [
    "random_seed = 2\n",
    "X_train, X_val, Y_train, Y_val = train_test_split(X_train, Y_train, test_size = 0.1, random_state=random_seed)"
   ]
  },
  {
   "cell_type": "markdown",
   "metadata": {
    "_cell_guid": "adbeacf0-0dc0-4675-b2df-9c9663750f32",
    "_uuid": "60eed15ec5bc0d354385301789ecb8538fc02267"
   },
   "source": [
    "We can get a better sense for one of these examples by visualising the image and looking at the label."
   ]
  },
  {
   "cell_type": "code",
   "execution_count": 214,
   "metadata": {
    "_cell_guid": "5f76131b-4ba0-45f1-a98c-bd4e7d561793",
    "_execution_state": "idle",
    "_uuid": "e0dae8943d3d35f075dba3d7ba31bde1d4bf2ff4"
   },
   "outputs": [
    {
     "name": "stdout",
     "output_type": "stream",
     "text": [
      "[0. 1. 0. 0. 0. 0. 0. 0. 0. 0.]\n"
     ]
    },
    {
     "data": {
      "text/plain": [
       "<matplotlib.image.AxesImage at 0x7fc3260d25d0>"
      ]
     },
     "execution_count": 214,
     "metadata": {},
     "output_type": "execute_result"
    },
    {
     "data": {
      "image/png": "[encoded data removed]",
      "text/plain": [
       "<matplotlib.figure.Figure at 0x7fc32632e190>"
      ]
     },
     "metadata": {},
     "output_type": "display_data"
    }
   ],
   "source": [
    "i = random.randint(0, 9) \n",
    "print(Y_train[i])\n",
    "plt.imshow(X_train[i][:,:,0])"
   ]
  },
  {
   "cell_type": "markdown",
   "metadata": {},
   "source": [
    "# Define the Data Augmentation\n",
    "\n",
    "\n",
    "Based on [yassineghouzam](https://www.kaggle.com/yassineghouzam/introduction-to-cnn-keras-0-997-top-6):\n",
    "\n",
    "- Randomly rotate some training images by 10 degrees\n",
    "- Randomly Zoom by 10% some training images\n",
    "- Randomly shift images horizontally by 10% of the width\n",
    "- Randomly shift images vertically by 10% of the height\n",
    "- No vertical_flip or horizontal_flip \n"
   ]
  },
  {
   "cell_type": "code",
   "execution_count": 217,
   "metadata": {},
   "outputs": [],
   "source": [
    "datagen = ImageDataGenerator(\n",
    "        featurewise_center=False,  # set input mean to 0 over the dataset\n",
    "        samplewise_center=False,  # set each sample mean to 0\n",
    "        featurewise_std_normalization=False,  # divide inputs by std of the dataset\n",
    "        samplewise_std_normalization=False,  # divide each input by its std\n",
    "        zca_whitening=False,  # apply ZCA whitening\n",
    "        rotation_range=10,  # randomly rotate images in the range (degrees, 0 to 180)\n",
    "        zoom_range = 0.1, # Randomly zoom image \n",
    "        width_shift_range=0.1,  # randomly shift images horizontally (fraction of total width)\n",
    "        height_shift_range=0.1,  # randomly shift images vertically (fraction of total height)\n",
    "        horizontal_flip=False,  # randomly flip images\n",
    "        vertical_flip=False)  # randomly flip images\n",
    "\n",
    "\n",
    "datagen.fit(X_train)"
   ]
  },
  {
   "cell_type": "markdown",
   "metadata": {
    "_cell_guid": "d5265777-aeb3-449d-b171-d88cad74c0a4",
    "_uuid": "5fa18b37a9acd9e098bac1d12264b0dd4310fdd3"
   },
   "source": [
    "# Define the CNN models\n",
    "All four of our different model architectures sharing some common attributes"
   ]
  },
  {
   "cell_type": "code",
   "execution_count": 215,
   "metadata": {},
   "outputs": [],
   "source": [
    "learning_rate_reduction = ReduceLROnPlateau(monitor='val_acc', \n",
    "                                            patience=3, \n",
    "                                            verbose=1, \n",
    "                                            factor=0.5, \n",
    "                                            min_lr=0.00001)\n",
    "\n",
    "epochs = 30\n",
    "batch_size = 86\n",
    "\n",
    "img_rows, img_cols = 28, 28\n",
    "\n",
    "nb_filters_1 = 32 \n",
    "nb_filters_2 = 64 \n",
    "nb_filters_3 = 128 \n",
    "\n",
    "nb_conv = 3 # kernel_size dim\n",
    "nb_classes = Y_train.shape[1]\n"
   ]
  },
  {
   "cell_type": "markdown",
   "metadata": {
    "_cell_guid": "504fa00e-148c-4364-9b68-218b3aaedfdb",
    "_uuid": "7697570491420f957f6e4d3569d51410b5277250"
   },
   "source": [
    "## CNN Model #1:\n",
    "Based on [yassineghouzam](https://www.kaggle.com/yassineghouzam/introduction-to-cnn-keras-0-997-top-6). \n",
    "\n",
    "**Layer 1, 2, 5, 6:** convolutional (Conv2D) layer with nb_filters_1 (32) filters for 1&2 and nb_filters_2 (64) filters for 5&6. Each filter transforms a part of the image defined by the kernel size nb_conv (3) using the kernel filter. 'relu' is the rectifier (activation function max(0,x). The rectifier activation function is used to add non linearity to the network.\n",
    "\n",
    "**Layer 3, 7:** Each sequence of two convolution (Conv2D) layers os followed by the pooling (MaxPool2D) layer, which acts as a downsampling filter. It looks at the 2 neighboring pixels and picks the maximal value (reduce computational cost, reduce overfitting). \n",
    "\n",
    "*Combining convolutional and pooling layers, CNN are able to combine local features and learn more global features of the image.*\n",
    "\n",
    "**Layer 4, 8, 11:** Each pooling layer is followed by dropout (Dropout), is a regularization method in which a random proportion of the nodes in a layer are randomly ignored by setting their wieghts to zero. This drops randomly a propotion of the network and forces the network to learn features in a distributed way. This technique also improves generalization and reduces the overfitting.\n",
    "\n",
    "**Layer 9:** The Flatten layer converts the final feature maps into a one single 1D vector. It combines all the found local features of the previous convolutional layers and makes it possible to use of fully connected layers after the convolutional/maxpool layers. \n",
    "\n",
    "**Layer 10, 12:** Finally, two fully-connected (Dense) layers which are just artificial an neural networks (ANN) classifiers. In the last layer(Dense(10,activation=\"softmax\")), the net outputs distribution of probability of each class.\n"
   ]
  },
  {
   "cell_type": "code",
   "execution_count": 216,
   "metadata": {
    "_cell_guid": "1e0f3f88-2ad7-459e-8e02-aecc5f3511ae",
    "_execution_state": "idle",
    "_uuid": "f7991ef6871a26f9fa57acdcd460a69bab53e804"
   },
   "outputs": [
    {
     "name": "stdout",
     "output_type": "stream",
     "text": [
      "_________________________________________________________________\n",
      "Layer (type)                 Output Shape              Param #   \n",
      "=================================================================\n",
      "conv2d_61 (Conv2D)           (None, 28, 28, 32)        320       \n",
      "_________________________________________________________________\n",
      "conv2d_62 (Conv2D)           (None, 28, 28, 32)        9248      \n",
      "_________________________________________________________________\n",
      "max_pooling2d_31 (MaxPooling (None, 14, 14, 32)        0         \n",
      "_________________________________________________________________\n",
      "dropout_22 (Dropout)         (None, 14, 14, 32)        0         \n",
      "_________________________________________________________________\n",
      "conv2d_63 (Conv2D)           (None, 14, 14, 64)        18496     \n",
      "_________________________________________________________________\n",
      "conv2d_64 (Conv2D)           (None, 14, 14, 64)        36928     \n",
      "_________________________________________________________________\n",
      "max_pooling2d_32 (MaxPooling (None, 7, 7, 64)          0         \n",
      "_________________________________________________________________\n",
      "dropout_23 (Dropout)         (None, 7, 7, 64)          0         \n",
      "_________________________________________________________________\n",
      "flatten_16 (Flatten)         (None, 3136)              0         \n",
      "_________________________________________________________________\n",
      "dense_31 (Dense)             (None, 256)               803072    \n",
      "_________________________________________________________________\n",
      "dropout_24 (Dropout)         (None, 256)               0         \n",
      "_________________________________________________________________\n",
      "dense_32 (Dense)             (None, 10)                2570      \n",
      "=================================================================\n",
      "Total params: 870,634\n",
      "Trainable params: 870,634\n",
      "Non-trainable params: 0\n",
      "_________________________________________________________________\n"
     ]
    }
   ],
   "source": [
    "model1 = Sequential()\n",
    "model1.add(Conv2D(filters = nb_filters_1, \n",
    "                 kernel_size = (nb_conv,nb_conv),\n",
    "                 padding = 'Same', \n",
    "                 activation ='relu', \n",
    "                 input_shape = (28,28,1)))\n",
    "model1.add(Conv2D(filters = nb_filters_1, \n",
    "                 kernel_size = (nb_conv,nb_conv),\n",
    "                 padding = 'Same', \n",
    "                 activation ='relu'))\n",
    "model1.add(MaxPool2D(pool_size=(2,2)))\n",
    "model1.add(Dropout(0.25))\n",
    "model1.add(Conv2D(filters = nb_filters_2, \n",
    "                 kernel_size = (nb_conv,nb_conv),\n",
    "                 padding = 'Same', \n",
    "                 activation ='relu'))\n",
    "model1.add(Conv2D(filters = nb_filters_2, \n",
    "                 kernel_size = (nb_conv,nb_conv),\n",
    "                 padding = 'Same', \n",
    "                 activation ='relu'))\n",
    "model1.add(MaxPool2D(pool_size=(2,2), strides=(2,2)))\n",
    "model1.add(Dropout(0.25))\n",
    "\n",
    "model1.add(Flatten())\n",
    "model1.add(Dense(256, activation = \"relu\"))\n",
    "model1.add(Dropout(0.5))\n",
    "model1.add(Dense(nb_classes, activation = \"softmax\"))\n",
    "\n",
    "model1.summary()"
   ]
  },
  {
   "cell_type": "markdown",
   "metadata": {},
   "source": [
    "# We Train & Pickle 3 model variants: \n",
    "- vanilla, \n",
    "- with LR annealing and \n",
    "- with LR nnealing and datauamentation"
   ]
  },
  {
   "cell_type": "raw",
   "metadata": {},
   "source": [
    "# Define the optimizer & Compile the model\n",
    "optimizer = RMSprop(lr=0.001, rho=0.9, epsilon=1e-08, decay=0.0)\n",
    "model1.compile(optimizer = optimizer , \\\n",
    "              loss = \"categorical_crossentropy\", \\\n",
    "              metrics=[\"accuracy\"])\n",
    "\n",
    "#########################################################################################\n",
    "# Train Model & Pickle the Training History (no LR reduction)\n",
    "#########################################################################################\n",
    "\n",
    "history1_noLR = model1.fit(X_train, Y_train, \\\n",
    "                     batch_size = batch_size, epochs = epochs, \\\n",
    "                     validation_data = (X_val, Y_val), \\\n",
    "                     verbose = 2)\n",
    "with open('model1_history_30epochs_noLRred.p.p', 'wb') as file_pi:\n",
    "    pickle.dump(history1_noLR.history, file_pi)\n",
    "\n",
    "#########################################################################################\n",
    "# Train Model & Pickle the Training History (with LR reduction)\n",
    "#########################################################################################\n",
    "\n",
    "history1 = model1.fit(X_train, Y_train, \\\n",
    "                     batch_size = batch_size, epochs = epochs, \\\n",
    "                     validation_data = (X_val, Y_val), \\\n",
    "                     verbose = 2, callbacks=[learning_rate_reduction])\n",
    "\n",
    "with open('model1_history_30epochs.p', 'wb') as file_pi:\n",
    "    pickle.dump(history1.history, file_pi)\n",
    "\n",
    "#########################################################################################\n",
    "# Train Model & Pickle the Training History (with LR reduction & Data Augmentation\n",
    "#########################################################################################\n",
    "\n",
    "history1 = model1.fit_generator(datagen.flow(X_train,Y_train, batch_size=batch_size),\\\n",
    "                                epochs = epochs, validation_data = (X_val,Y_val),\\\n",
    "                                verbose = 2, steps_per_epoch=X_train.shape[0] // batch_size,\\\n",
    "                                callbacks=[learning_rate_reduction])\n",
    "\n",
    "with open('model1_history_30epochs_wDAug.p', 'wb') as file_pi:\n",
    "    pickle.dump(history1.history, file_pi)"
   ]
  },
  {
   "cell_type": "markdown",
   "metadata": {},
   "source": [
    "## CNN Model #2:\n",
    "Based on [somshubramajumdar](https://www.kaggle.com/somshubramajumdar/deep-convolutional-network-using-keras). \n",
    "\n",
    "Same as Model #1 except we drop (!) both of the Dropout layers following the first and second set of Conv2D+Conv2D+MaxPool2D. Thefinal sequence of Flatten+Dense+Dropout+Dense is replaced by Flatten+Dropout+Dense+Dense. The second to last Dense layer's ouput space dim is half that of Model#1 (128 vesus 256). Also, adam is used as the update rule instead of RMSProp.\n",
    "\n",
    "Comparing the accuracy of these two models, model 2 exhibits more overfitting but ultimately performs just as well as model 1. \n",
    "\n",
    "\n",
    "[*\"in CNN, usually, a Dropout layer is applied after each pooling layer, and also after your Dense layer. A good tutorial is here\"*](https://datascience.stackexchange.com/questions/22760/number-and-size-of-dense-layers-in-a-cnn)"
   ]
  },
  {
   "cell_type": "code",
   "execution_count": 166,
   "metadata": {},
   "outputs": [
    {
     "name": "stdout",
     "output_type": "stream",
     "text": [
      "_________________________________________________________________\n",
      "Layer (type)                 Output Shape              Param #   \n",
      "=================================================================\n",
      "conv2d_45 (Conv2D)           (None, 28, 28, 32)        320       \n",
      "_________________________________________________________________\n",
      "conv2d_46 (Conv2D)           (None, 28, 28, 32)        9248      \n",
      "_________________________________________________________________\n",
      "max_pooling2d_23 (MaxPooling (None, 14, 14, 32)        0         \n",
      "_________________________________________________________________\n",
      "conv2d_47 (Conv2D)           (None, 14, 14, 64)        18496     \n",
      "_________________________________________________________________\n",
      "conv2d_48 (Conv2D)           (None, 14, 14, 64)        36928     \n",
      "_________________________________________________________________\n",
      "max_pooling2d_24 (MaxPooling (None, 7, 7, 64)          0         \n",
      "_________________________________________________________________\n",
      "flatten_12 (Flatten)         (None, 3136)              0         \n",
      "_________________________________________________________________\n",
      "dropout_18 (Dropout)         (None, 3136)              0         \n",
      "_________________________________________________________________\n",
      "dense_23 (Dense)             (None, 128)               401536    \n",
      "_________________________________________________________________\n",
      "dense_24 (Dense)             (None, 10)                1290      \n",
      "=================================================================\n",
      "Total params: 467,818\n",
      "Trainable params: 467,818\n",
      "Non-trainable params: 0\n",
      "_________________________________________________________________\n"
     ]
    }
   ],
   "source": [
    "model2 = Sequential()\n",
    "\n",
    "model2.add(Conv2D(filters = nb_filters_1, \n",
    "                 kernel_size = (nb_conv,nb_conv),\n",
    "                 padding = 'Same', \n",
    "                 activation ='relu', \n",
    "                 input_shape = (28,28,1)))\n",
    "model2.add(Conv2D(filters = nb_filters_1, \n",
    "                 kernel_size = (nb_conv,nb_conv),\n",
    "                 padding = 'Same', \n",
    "                 activation ='relu'))\n",
    "model2.add(MaxPool2D(pool_size=(2,2)))\n",
    "\n",
    "model2.add(Conv2D(filters = nb_filters_2, \n",
    "                 kernel_size = (nb_conv,nb_conv),\n",
    "                 padding = 'Same', \n",
    "                 activation ='relu'))\n",
    "model2.add(Conv2D(filters = nb_filters_2, \n",
    "                 kernel_size = (nb_conv,nb_conv),\n",
    "                 padding = 'Same', \n",
    "                 activation ='relu'))\n",
    "model2.add(MaxPool2D(strides=(2,2)))\n",
    "\n",
    "model2.add(Flatten())\n",
    "model2.add(Dropout(0.2))\n",
    "model2.add(Dense(128, activation = \"relu\"))\n",
    "model2.add(Dense(nb_classes, activation = \"softmax\"))\n",
    "\n",
    "model2.summary()"
   ]
  },
  {
   "cell_type": "raw",
   "metadata": {},
   "source": [
    "# Define the optimizer & Compile the model\n",
    "optimizer = \"adam\"\n",
    "model2.compile(optimizer = optimizer , \\\n",
    "              loss = \"categorical_crossentropy\", \\\n",
    "              metrics=[\"accuracy\"])\n",
    "\n",
    "#########################################################################################\n",
    "# Train Model & Pickle the Training History (no LR reduction)\n",
    "#########################################################################################\n",
    "\n",
    "history2_noLR = model2.fit(X_train, Y_train, \\\n",
    "                     batch_size = batch_size, epochs = epochs, \\\n",
    "                     validation_data = (X_val, Y_val), \\\n",
    "                     verbose = 2)\n",
    "with open('model2_history_30epochs_noLRred.p.p', 'wb') as file_pi:\n",
    "    pickle.dump(history2_noLR.history, file_pi)\n",
    "\n",
    "#########################################################################################\n",
    "# Train Model & Pickle the Training History (with LR reduction)\n",
    "#########################################################################################\n",
    "\n",
    "history2 = model2.fit(X_train, Y_train, \\\n",
    "                     batch_size = batch_size, epochs = epochs, \\\n",
    "                     validation_data = (X_val, Y_val), \\\n",
    "                     verbose = 2, callbacks=[learning_rate_reduction])\n",
    "\n",
    "with open('model2_history_30epochs.p', 'wb') as file_pi:\n",
    "    pickle.dump(history2.history, file_pi)\n",
    "\n",
    "#########################################################################################\n",
    "# Train Model & Pickle the Training History (with LR reduction & Data Augmentation\n",
    "#########################################################################################\n",
    "\n",
    "history2 = model2.fit_generator(datagen.flow(X_train,Y_train, batch_size=batch_size),\\\n",
    "                                epochs = epochs, validation_data = (X_val,Y_val),\\\n",
    "                                verbose = 2, \\\n",
    "                                steps_per_epoch=X_train.shape[0] // batch_size,\\\n",
    "                                callbacks=[learning_rate_reduction])\n",
    "\n",
    "with open('model2_history_30epochs_wDAug.p', 'wb') as file_pi:\n",
    "    pickle.dump(history2.history, file_pi)"
   ]
  },
  {
   "cell_type": "markdown",
   "metadata": {},
   "source": [
    "## CNN Model #3:\n",
    "Based on [yashk2810.github]( https://yashk2810.github.io/Applying-Convolutional-Neural-Network-on-the-MNIST-dataset/). \n",
    "\n",
    "A completely different architecture! We keep our individual **Conv2D** layers the same in terms of filters and kernel size values, but now instead for the padding parameter being 'Same', it is set to the default 'Valid'. Lastly, activation in these layers is set to the default of None, and only implemented after Batch Normalization. \n",
    "\n",
    "No longer are we stringing two Conv2D layers together. Instead, each Conv2D layer is followed by BatchNormalization and Activation, for a total of 4 sequences of Conv2D+BatchNormalization+Activation. \n",
    "\n",
    "**BatchNormalization**: performs normalization for each training mini-batch, allowing us to use much higher learning rates and be less careful about initialization. It also acts as a regularizer, in some cases eliminating the need for Dropout. \n",
    "\n",
    "**Activation**: In previous models, this was incorporated intp the Conv2D layer but now, we save this for after BatchNormalization. It is debatable whether Activation should precede or follow BatchNormalization. \n",
    "\n",
    "After ever 2 sequences of Conv2D+BatchNormalization+Activation, we follow with a MaxPool2D of the same size as in the previous two models.\n",
    "\n",
    "Finally, we wrap up with a sequence of Flatten+Dense+BatchNormalization+Activation and Dropout+Dense(nb_classes). Our Second to last dense layer's ouput space dim is twise that of Model#1 (512 vesus 256) and four times that of Model#2  (512 vesus 128).\n",
    "\n",
    "Our optimizer is the same as in Model #2 - \"Adam\". \n",
    "\n",
    "Comparing the accuracy of these three models, model 3 exhibits similar behavior of model 2 -- more overfitting but ultimately performs (exactly!) just as well as model 1.  Could this be tied to using Adam instad of RMSProp? \n",
    "\n",
    "**Without data augmentation: After 30 epochs:** val_acc: 0.9919"
   ]
  },
  {
   "cell_type": "code",
   "execution_count": 218,
   "metadata": {},
   "outputs": [
    {
     "name": "stdout",
     "output_type": "stream",
     "text": [
      "_________________________________________________________________\n",
      "Layer (type)                 Output Shape              Param #   \n",
      "=================================================================\n",
      "conv2d_65 (Conv2D)           (None, 26, 26, 32)        320       \n",
      "_________________________________________________________________\n",
      "batch_normalization_32 (Batc (None, 26, 26, 32)        128       \n",
      "_________________________________________________________________\n",
      "activation_33 (Activation)   (None, 26, 26, 32)        0         \n",
      "_________________________________________________________________\n",
      "conv2d_66 (Conv2D)           (None, 24, 24, 32)        9248      \n",
      "_________________________________________________________________\n",
      "batch_normalization_33 (Batc (None, 24, 24, 32)        128       \n",
      "_________________________________________________________________\n",
      "activation_34 (Activation)   (None, 24, 24, 32)        0         \n",
      "_________________________________________________________________\n",
      "max_pooling2d_33 (MaxPooling (None, 12, 12, 32)        0         \n",
      "_________________________________________________________________\n",
      "conv2d_67 (Conv2D)           (None, 10, 10, 32)        9248      \n",
      "_________________________________________________________________\n",
      "batch_normalization_34 (Batc (None, 10, 10, 32)        128       \n",
      "_________________________________________________________________\n",
      "activation_35 (Activation)   (None, 10, 10, 32)        0         \n",
      "_________________________________________________________________\n",
      "conv2d_68 (Conv2D)           (None, 8, 8, 32)          9248      \n",
      "_________________________________________________________________\n",
      "batch_normalization_35 (Batc (None, 8, 8, 32)          128       \n",
      "_________________________________________________________________\n",
      "activation_36 (Activation)   (None, 8, 8, 32)          0         \n",
      "_________________________________________________________________\n",
      "max_pooling2d_34 (MaxPooling (None, 4, 4, 32)          0         \n",
      "_________________________________________________________________\n",
      "flatten_17 (Flatten)         (None, 512)               0         \n",
      "_________________________________________________________________\n",
      "dense_33 (Dense)             (None, 512)               262656    \n",
      "_________________________________________________________________\n",
      "batch_normalization_36 (Batc (None, 512)               2048      \n",
      "_________________________________________________________________\n",
      "activation_37 (Activation)   (None, 512)               0         \n",
      "_________________________________________________________________\n",
      "dropout_25 (Dropout)         (None, 512)               0         \n",
      "_________________________________________________________________\n",
      "dense_34 (Dense)             (None, 10)                5130      \n",
      "=================================================================\n",
      "Total params: 298,410\n",
      "Trainable params: 297,130\n",
      "Non-trainable params: 1,280\n",
      "_________________________________________________________________\n"
     ]
    }
   ],
   "source": [
    "model3 = Sequential()\n",
    "\n",
    "model3.add(Conv2D(filters = nb_filters_1, \n",
    "                  kernel_size = (nb_conv,nb_conv),\n",
    "                  input_shape=(28,28,1)))                \n",
    "model3.add(BatchNormalization(axis=-1))\n",
    "model3.add(Activation('relu'))\n",
    "\n",
    "model3.add(Conv2D(filters = nb_filters_1, \n",
    "                  kernel_size = (nb_conv,nb_conv),\n",
    "                  input_shape=(28,28,1)))  \n",
    "model3.add(BatchNormalization(axis=-1))\n",
    "model3.add(Activation('relu'))\n",
    "\n",
    "model3.add(MaxPool2D(pool_size=(2,2)))\n",
    "\n",
    "model3.add(Conv2D(filters = nb_filters_1, \n",
    "                  kernel_size = (nb_conv,nb_conv),\n",
    "                  input_shape=(28,28,1)))  \n",
    "model3.add(BatchNormalization(axis=-1))\n",
    "model3.add(Activation('relu'))\n",
    "\n",
    "model3.add(Conv2D(filters = nb_filters_1, \n",
    "                  kernel_size = (nb_conv,nb_conv),\n",
    "                  input_shape=(28,28,1)))  \n",
    "model3.add(BatchNormalization(axis=-1))\n",
    "model3.add(Activation('relu'))\n",
    "\n",
    "model3.add(MaxPool2D(pool_size=(2,2)))\n",
    "\n",
    "model3.add(Flatten())\n",
    "model3.add(Dense(512))\n",
    "model3.add(BatchNormalization())\n",
    "model3.add(Activation('relu'))\n",
    "\n",
    "model3.add(Dropout(0.2))\n",
    "model3.add(Dense(nb_classes, activation = \"softmax\"))\n",
    "\n",
    "model3.summary()"
   ]
  },
  {
   "cell_type": "raw",
   "metadata": {},
   "source": [
    "# Define the optimizer & Compile the model\n",
    "optimizer = \"adam\"\n",
    "model2.compile(optimizer = optimizer , \\\n",
    "              loss = \"categorical_crossentropy\", \\\n",
    "              metrics=[\"accuracy\"])\n",
    "\n",
    "#########################################################################################\n",
    "# Train Model & Pickle the Training History (no LR reduction)\n",
    "#########################################################################################\n",
    "\n",
    "history3_noLR = model3.fit(X_train, Y_train, \\\n",
    "                     batch_size = batch_size, epochs = epochs, \\\n",
    "                     validation_data = (X_val, Y_val), \\\n",
    "                     verbose = 2)\n",
    "with open('model3_history_30epochs_noLRred.p.p', 'wb') as file_pi:\n",
    "    pickle.dump(history3_noLR.history, file_pi)\n",
    "\n",
    "#########################################################################################\n",
    "# Train Model & Pickle the Training History (with LR reduction)\n",
    "#########################################################################################\n",
    "\n",
    "history3 = model3.fit(X_train, Y_train, \\\n",
    "                     batch_size = batch_size, epochs = epochs, \\\n",
    "                     validation_data = (X_val, Y_val), \\\n",
    "                     verbose = 2, callbacks=[learning_rate_reduction])\n",
    "\n",
    "with open('model3_history_30epochs.p', 'wb') as file_pi:\n",
    "    pickle.dump(history3.history, file_pi)\n",
    "\n",
    "#########################################################################################\n",
    "# Train Model & Pickle the Training History (with LR reduction & Data Augmentation\n",
    "#########################################################################################\n",
    "\n",
    "history3 = model3.fit_generator(datagen.flow(X_train,Y_train, batch_size=batch_size),\\\n",
    "                                epochs = epochs, validation_data = (X_val,Y_val),\\\n",
    "                                verbose = 2, \\\n",
    "                                steps_per_epoch=X_train.shape[0] // batch_size,\\\n",
    "                                callbacks=[learning_rate_reduction])\n",
    "\n",
    "with open('model3_history_30epochs_wDAug.p', 'wb') as file_pi:\n",
    "    pickle.dump(history3.history, file_pi)"
   ]
  },
  {
   "cell_type": "markdown",
   "metadata": {},
   "source": [
    "## CNN Model #4:\n",
    "\n",
    "I tried adding BatchNormalization to the second model, between the convolution and activation layers. However, this did not really improve perfomance. \n",
    "\n",
    "Comparing the accuracy of these three models, model 4 exhibits similar behavior of model 2 & 4 -- more overfitting but ultimately has more volatily validation scores. \n",
    "\n",
    "**Without data augmentation: After 30 epochs:** val_acc:  0.9902"
   ]
  },
  {
   "cell_type": "code",
   "execution_count": 219,
   "metadata": {},
   "outputs": [
    {
     "name": "stdout",
     "output_type": "stream",
     "text": [
      "_________________________________________________________________\n",
      "Layer (type)                 Output Shape              Param #   \n",
      "=================================================================\n",
      "conv2d_69 (Conv2D)           (None, 28, 28, 32)        320       \n",
      "_________________________________________________________________\n",
      "batch_normalization_37 (Batc (None, 28, 28, 32)        128       \n",
      "_________________________________________________________________\n",
      "activation_38 (Activation)   (None, 28, 28, 32)        0         \n",
      "_________________________________________________________________\n",
      "conv2d_70 (Conv2D)           (None, 28, 28, 32)        9248      \n",
      "_________________________________________________________________\n",
      "batch_normalization_38 (Batc (None, 28, 28, 32)        128       \n",
      "_________________________________________________________________\n",
      "activation_39 (Activation)   (None, 28, 28, 32)        0         \n",
      "_________________________________________________________________\n",
      "max_pooling2d_35 (MaxPooling (None, 14, 14, 32)        0         \n",
      "_________________________________________________________________\n",
      "conv2d_71 (Conv2D)           (None, 14, 14, 64)        18496     \n",
      "_________________________________________________________________\n",
      "batch_normalization_39 (Batc (None, 14, 14, 64)        256       \n",
      "_________________________________________________________________\n",
      "activation_40 (Activation)   (None, 14, 14, 64)        0         \n",
      "_________________________________________________________________\n",
      "conv2d_72 (Conv2D)           (None, 14, 14, 64)        36928     \n",
      "_________________________________________________________________\n",
      "batch_normalization_40 (Batc (None, 14, 14, 64)        256       \n",
      "_________________________________________________________________\n",
      "activation_41 (Activation)   (None, 14, 14, 64)        0         \n",
      "_________________________________________________________________\n",
      "max_pooling2d_36 (MaxPooling (None, 7, 7, 64)          0         \n",
      "_________________________________________________________________\n",
      "flatten_18 (Flatten)         (None, 3136)              0         \n",
      "_________________________________________________________________\n",
      "dropout_26 (Dropout)         (None, 3136)              0         \n",
      "_________________________________________________________________\n",
      "dense_35 (Dense)             (None, 128)               401536    \n",
      "_________________________________________________________________\n",
      "dense_36 (Dense)             (None, 10)                1290      \n",
      "=================================================================\n",
      "Total params: 468,586\n",
      "Trainable params: 468,202\n",
      "Non-trainable params: 384\n",
      "_________________________________________________________________\n"
     ]
    }
   ],
   "source": [
    "model4 = Sequential()\n",
    "\n",
    "model4.add(Conv2D(filters = nb_filters_1, \n",
    "                 kernel_size = (nb_conv,nb_conv),\n",
    "                 padding = 'Same', \n",
    "                 input_shape = (28,28,1)))\n",
    "model4.add(BatchNormalization(axis=-1))\n",
    "model4.add(Activation('relu'))\n",
    "model4.add(Conv2D(filters = nb_filters_1, \n",
    "                 kernel_size = (nb_conv,nb_conv),\n",
    "                 padding = 'Same'))\n",
    "model4.add(BatchNormalization(axis=-1))\n",
    "model4.add(Activation('relu'))\n",
    "model4.add(MaxPool2D(pool_size=(2,2)))\n",
    "\n",
    "model4.add(Conv2D(filters = nb_filters_2, \n",
    "                 kernel_size = (nb_conv,nb_conv),\n",
    "                 padding = 'Same'))\n",
    "model4.add(BatchNormalization(axis=-1))\n",
    "model4.add(Activation('relu'))\n",
    "model4.add(Conv2D(filters = nb_filters_2, \n",
    "                 kernel_size = (nb_conv,nb_conv),\n",
    "                 padding = 'Same'))\n",
    "model4.add(BatchNormalization(axis=-1))\n",
    "model4.add(Activation('relu'))\n",
    "model4.add(MaxPool2D(strides=(2,2)))\n",
    "\n",
    "model4.add(Flatten())\n",
    "model4.add(Dropout(0.2))\n",
    "model4.add(Dense(128, activation = \"relu\"))\n",
    "model4.add(Dense(nb_classes, activation = \"softmax\"))\n",
    "\n",
    "model4.summary()"
   ]
  },
  {
   "cell_type": "raw",
   "metadata": {},
   "source": [
    "# Define the optimizer & Compile the model\n",
    "optimizer = \"adam\"\n",
    "model4.compile(optimizer = optimizer , \\\n",
    "              loss = \"categorical_crossentropy\", \\\n",
    "              metrics=[\"accuracy\"])\n",
    "\n",
    "#########################################################################################\n",
    "# Train Model & Pickle the Training History (no LR reduction)\n",
    "#########################################################################################\n",
    "\n",
    "history4_noLR = model4.fit(X_train, Y_train, \\\n",
    "                     batch_size = batch_size, epochs = epochs, \\\n",
    "                     validation_data = (X_val, Y_val), \\\n",
    "                     verbose = 2)\n",
    "with open('model4_history_30epochs_noLRred.p.p', 'wb') as file_pi:\n",
    "    pickle.dump(history4_noLR.history, file_pi)\n",
    "\n",
    "#########################################################################################\n",
    "# Train Model & Pickle the Training History (with LR reduction)\n",
    "#########################################################################################\n",
    "\n",
    "history4 = model4.fit(X_train, Y_train, \\\n",
    "                     batch_size = batch_size, epochs = epochs, \\\n",
    "                     validation_data = (X_val, Y_val), \\\n",
    "                     verbose = 2, callbacks=[learning_rate_reduction])\n",
    "\n",
    "with open('model4_history_30epochs.p', 'wb') as file_pi:\n",
    "    pickle.dump(history4.history, file_pi)\n",
    "\n",
    "#########################################################################################\n",
    "# Train Model & Pickle the Training History (with LR reduction & Data Augmentation\n",
    "#########################################################################################\n",
    "\n",
    "history4 = model4.fit_generator(datagen.flow(X_train,Y_train, batch_size=batch_size),\\\n",
    "                                epochs = epochs, validation_data = (X_val,Y_val),\\\n",
    "                                verbose = 2, \\\n",
    "                                steps_per_epoch=X_train.shape[0] // batch_size,\\\n",
    "                                callbacks=[learning_rate_reduction])\n",
    "\n",
    "with open('model4_history_30epochs_wDAug.p', 'wb') as file_pi:\n",
    "    pickle.dump(history4.history, file_pi)"
   ]
  },
  {
   "cell_type": "markdown",
   "metadata": {},
   "source": [
    "# Load the pickles"
   ]
  },
  {
   "cell_type": "code",
   "execution_count": null,
   "metadata": {},
   "outputs": [],
   "source": [
    "history1_A = pickle.load( open( 'model1_history_30epochs_noLRred.p', 'rb'))\n",
    "history1_B = pickle.load( open( 'model1_history_30epochs.p', 'rb'))\n",
    "history1_C = pickle.load( open( 'model1_history_30epochs_wDAug.p', 'rb'))\n",
    "\n",
    "history2_A = pickle.load( open( 'model2_history_30epochs_noLRred.p', 'rb'))\n",
    "history2_B = pickle.load( open( 'model2_history_30epochs.p', 'rb'))\n",
    "history2_C = pickle.load( open( 'model2_history_30epochs_wDAug.p', 'rb'))\n",
    "\n",
    "history3_A = pickle.load( open( 'model3_history_30epochs_noLRred.p', 'rb'))\n",
    "history3_B = pickle.load( open( 'model3_history_30epochs.p', 'rb'))\n",
    "history3_C = pickle.load( open( 'model3_history_30epochs_wDAug.p', 'rb'))\n",
    "\n",
    "history4_A = pickle.load( open( 'model4_history_30epochs_noLRred.p', 'rb'))\n",
    "history4_B = pickle.load( open( 'model4_history_30epochs.p', 'rb'))\n",
    "history4_C = pickle.load( open( 'model4_history_30epochs_wDAug.p', 'rb'))"
   ]
  },
  {
   "cell_type": "markdown",
   "metadata": {},
   "source": [
    "#  Compare the validation scores across all variants for each arhcitecture"
   ]
  },
  {
   "cell_type": "markdown",
   "metadata": {},
   "source": [
    "Of the first architecture, the highest validation score overall epochs was achieved by the **vanilla model** and the highest final epoch validation score was achieved by **(tied) both non-vanilla models**."
   ]
  },
  {
   "cell_type": "code",
   "execution_count": 226,
   "metadata": {},
   "outputs": [
    {
     "name": "stdout",
     "output_type": "stream",
     "text": [
      "Final Validation Score of Model 1_A: 0.991905\n",
      "Final Validation Score of Model 1_B: 0.992381\n",
      "Final Validation Score of Model 1_C: 0.992381\n",
      "\n",
      "Best! Validation Score of Model 1_A: 0.993810\n",
      "Best! Validation Score of Model 1_B: 0.992857\n",
      "Best! Validation Score of Model 1_C: 0.992857\n"
     ]
    }
   ],
   "source": [
    "print (\"Final Validation Score of Model 1_A: %f\" % (history1_A['val_acc'][-1]))\n",
    "print (\"Final Validation Score of Model 1_B: %f\" % (history1_B['val_acc'][-1]))\n",
    "print (\"Final Validation Score of Model 1_C: %f\" % (history1_C['val_acc'][-1]))\n",
    "print\n",
    "print (\"Best! Validation Score of Model 1_A: %f\" % max(history1_A['val_acc']))\n",
    "print (\"Best! Validation Score of Model 1_B: %f\" % max(history1_B['val_acc']))\n",
    "print (\"Best! Validation Score of Model 1_C: %f\" % max(history1_C['val_acc']))\n"
   ]
  },
  {
   "cell_type": "markdown",
   "metadata": {},
   "source": [
    "Of the second architecture, the highest validation score overall epochs was achieved by the **LR annealing & data augmented model** and the highest final epoch validation score was achieved by **LR annealing & data augmented model**. "
   ]
  },
  {
   "cell_type": "code",
   "execution_count": 227,
   "metadata": {},
   "outputs": [
    {
     "name": "stdout",
     "output_type": "stream",
     "text": [
      "Final Validation Score of Model 2_A: 0.990000\n",
      "Final Validation Score of Model 2_B: 0.992381\n",
      "Final Validation Score of Model 2_C: 0.993571\n",
      "\n",
      "Best! Validation Score of Model 2_A: 0.993571\n",
      "Best! Validation Score of Model 2_B: 0.992857\n",
      "Best! Validation Score of Model 2_C: 0.995238\n"
     ]
    }
   ],
   "source": [
    "print (\"Final Validation Score of Model 2_A: %f\" % (history2_A['val_acc'][-1]))\n",
    "print (\"Final Validation Score of Model 2_B: %f\" % (history2_B['val_acc'][-1]))\n",
    "print (\"Final Validation Score of Model 2_C: %f\" % (history2_C['val_acc'][-1]))\n",
    "print\n",
    "print (\"Best! Validation Score of Model 2_A: %f\" % max(history2_A['val_acc']))\n",
    "print (\"Best! Validation Score of Model 2_B: %f\" % max(history2_B['val_acc']))\n",
    "print (\"Best! Validation Score of Model 2_C: %f\" % max(history2_C['val_acc']))\n"
   ]
  },
  {
   "cell_type": "markdown",
   "metadata": {},
   "source": [
    "Of the third architecture, the highest validation score overall epochs was achieved by the **LR annealing & data augmented model** and the highest final epoch validation score was achieved by **LR annealing & data augmented model**. "
   ]
  },
  {
   "cell_type": "code",
   "execution_count": 228,
   "metadata": {},
   "outputs": [
    {
     "name": "stdout",
     "output_type": "stream",
     "text": [
      "Final Validation Score of Model 3_A: 0.991905\n",
      "Final Validation Score of Model 3_B: 0.994048\n",
      "Final Validation Score of Model 3_C: 0.994762\n",
      "\n",
      "Best! Validation Score of Model 3_A: 0.993333\n",
      "Best! Validation Score of Model 3_B: 0.995000\n",
      "Best! Validation Score of Model 3_C: 0.995952\n"
     ]
    }
   ],
   "source": [
    "print (\"Final Validation Score of Model 3_A: %f\" % (history3_A['val_acc'][-1]))\n",
    "print (\"Final Validation Score of Model 3_B: %f\" % (history3_B['val_acc'][-1]))\n",
    "print (\"Final Validation Score of Model 3_C: %f\" % (history3_C['val_acc'][-1]))\n",
    "print\n",
    "print (\"Best! Validation Score of Model 3_A: %f\" % max(history3_A['val_acc']))\n",
    "print (\"Best! Validation Score of Model 3_B: %f\" % max(history3_B['val_acc']))\n",
    "print (\"Best! Validation Score of Model 3_C: %f\" % max(history3_C['val_acc']))\n"
   ]
  },
  {
   "cell_type": "markdown",
   "metadata": {},
   "source": [
    "Of the fourth architecture, the highest validation score overall epochs was achieved by the **LR annealing & data augmented model** and the highest final epoch validation score was achieved by **LR annealing & data augmented model**. "
   ]
  },
  {
   "cell_type": "code",
   "execution_count": 229,
   "metadata": {},
   "outputs": [
    {
     "name": "stdout",
     "output_type": "stream",
     "text": [
      "Final Validation Score of Model 4_A: 0.990000\n",
      "Final Validation Score of Model 4_B: 0.992381\n",
      "Final Validation Score of Model 4_C: 0.993571\n",
      "\n",
      "Best! Validation Score of Model 4_A: 0.993571\n",
      "Best! Validation Score of Model 4_B: 0.992857\n",
      "Best! Validation Score of Model 4_C: 0.995238\n"
     ]
    }
   ],
   "source": [
    "print (\"Final Validation Score of Model 4_A: %f\" % (history2_A['val_acc'][-1]))\n",
    "print (\"Final Validation Score of Model 4_B: %f\" % (history2_B['val_acc'][-1]))\n",
    "print (\"Final Validation Score of Model 4_C: %f\" % (history2_C['val_acc'][-1]))\n",
    "print\n",
    "print (\"Best! Validation Score of Model 4_A: %f\" % max(history2_A['val_acc']))\n",
    "print (\"Best! Validation Score of Model 4_B: %f\" % max(history2_B['val_acc']))\n",
    "print (\"Best! Validation Score of Model 4_C: %f\" % max(history2_C['val_acc']))\n"
   ]
  },
  {
   "cell_type": "markdown",
   "metadata": {},
   "source": [
    "#  In every model architecture except the first one, \n",
    "## the models with the LR annealing and data augmentation performed significantly better."
   ]
  },
  {
   "cell_type": "code",
   "execution_count": 233,
   "metadata": {},
   "outputs": [
    {
     "data": {
      "image/png": "[encoded data removed]",
      "text/plain": [
       "<matplotlib.figure.Figure at 0x7fc3258a71d0>"
      ]
     },
     "metadata": {},
     "output_type": "display_data"
    }
   ],
   "source": [
    "plt.rcParams['figure.figsize'] = [15, 10]\n",
    "plt.ylim(ymin=.96)\n",
    "\n",
    "plt.plot(history1_C['val_acc'], color='r',label=\"Model 1_C Valid Acc\")\n",
    "plt.plot(history2_C['val_acc'], color='b',label=\"Model 2_C Valid Acc\")\n",
    "plt.plot(history3_C['val_acc'], color='g',label=\"Model 3_C Valid Acc\")\n",
    "plt.plot(history4_C['val_acc'], color='mediumturquoise',label=\"Model 4_C Valid Acc\")\n",
    "\n",
    "plt.legend(loc=4, prop={'size': 20}, shadow=True, ncol=1)\n",
    "plt.grid()"
   ]
  },
  {
   "cell_type": "markdown",
   "metadata": {},
   "source": [
    "# Ultimately,\n",
    "## the highest validation score is achieved by **Model 3-C at .99592**\n"
   ]
  },
  {
   "cell_type": "markdown",
   "metadata": {},
   "source": [
    "# Finally, \n",
    "## let's output a submisison"
   ]
  },
  {
   "cell_type": "code",
   "execution_count": null,
   "metadata": {},
   "outputs": [],
   "source": [
    "# predict results\n",
    "results = model.predict(test)\n",
    "\n",
    "# select the indix with the maximum probability\n",
    "results = np.argmax(results,axis = 1)\n",
    "\n",
    "results = pd.Series(results,name=\"Label\")\n",
    "submission = pd.concat([pd.Series(range(1,28001),name = \"ImageId\"),results],axis = 1)\n",
    "\n",
    "submission.to_csv(\"cnn_mnist_datagen.csv\",index=False)"
   ]
  }
 ],
 "metadata": {
  "kernelspec": {
   "display_name": "Python 2",
   "language": "python",
   "name": "python2"
  },
  "language_info": {
   "codemirror_mode": {
    "name": "ipython",
    "version": 2
   },
   "file_extension": ".py",
   "mimetype": "text/x-python",
   "name": "python",
   "nbconvert_exporter": "python",
   "pygments_lexer": "ipython2",
   "version": "2.7.12"
  }
 },
 "nbformat": 4,
 "nbformat_minor": 2
}
