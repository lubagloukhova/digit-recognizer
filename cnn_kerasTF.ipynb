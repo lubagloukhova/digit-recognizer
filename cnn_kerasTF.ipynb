{
 "cells": [
  {
   "cell_type": "markdown",
   "metadata": {
    "_cell_guid": "d4c08f48-fe23-4ddb-ac46-d97f05397514",
    "_uuid": "f2156d1dd26a1243e18512002e10872c5bd7271e",
    "deletable": true,
    "editable": true
   },
   "source": [
    "# CNN w/ Keras on TF"
   ]
  },
  {
   "cell_type": "markdown",
   "metadata": {
    "deletable": true,
    "editable": true
   },
   "source": [
    "# Set up"
   ]
  },
  {
   "cell_type": "code",
   "execution_count": 71,
   "metadata": {
    "collapsed": false,
    "deletable": true,
    "editable": true
   },
   "outputs": [],
   "source": [
    "import pandas as pd\n",
    "import numpy as np\n",
    "import matplotlib.pyplot as plt\n",
    "import matplotlib.image as mpimg\n",
    "import seaborn as sns\n",
    "%matplotlib inline\n",
    "\n",
    "np.random.seed(2)\n",
    "\n",
    "from sklearn.model_selection import train_test_split\n",
    "from sklearn.metrics import confusion_matrix\n",
    "import itertools\n",
    "\n",
    "from keras.utils.np_utils import to_categorical # convert to one-hot-encoding\n",
    "from keras.models import Sequential\n",
    "from keras.layers import Dense, Dropout, Flatten, Conv2D, MaxPool2D\n",
    "from keras.optimizers import RMSprop\n",
    "from keras.preprocessing.image import ImageDataGenerator\n",
    "from keras.callbacks import ReduceLROnPlateau\n",
    "\n",
    "#for model3\n",
    "from keras.optimizers import Adam\n",
    "from keras.layers.normalization import BatchNormalization\n",
    "from keras.layers import Activation"
   ]
  },
  {
   "cell_type": "code",
   "execution_count": 4,
   "metadata": {
    "collapsed": true,
    "deletable": true,
    "editable": true
   },
   "outputs": [],
   "source": [
    "# Load the data\n",
    "train = pd.read_csv(\"~/.kaggle/competitions/digit-recognizer/train.csv\")\n",
    "test = pd.read_csv(\"~/.kaggle/competitions/digit-recognizer/test.csv\")"
   ]
  },
  {
   "cell_type": "code",
   "execution_count": 5,
   "metadata": {
    "collapsed": false,
    "deletable": true,
    "editable": true
   },
   "outputs": [],
   "source": [
    "# Define training varible\n",
    "Y_train = train[\"label\"]\n",
    "X_train = train.drop(labels = [\"label\"],axis = 1) \n",
    "\n",
    "del train "
   ]
  },
  {
   "cell_type": "markdown",
   "metadata": {
    "deletable": true,
    "editable": true
   },
   "source": [
    "# Preliminary EDA"
   ]
  },
  {
   "cell_type": "markdown",
   "metadata": {
    "deletable": true,
    "editable": true
   },
   "source": [
    "### Y-distribution"
   ]
  },
  {
   "cell_type": "code",
   "execution_count": 6,
   "metadata": {
    "collapsed": false,
    "deletable": true,
    "editable": true
   },
   "outputs": [
    {
     "data": {
      "text/plain": [
       "1    4684\n",
       "7    4401\n",
       "3    4351\n",
       "9    4188\n",
       "2    4177\n",
       "6    4137\n",
       "0    4132\n",
       "4    4072\n",
       "8    4063\n",
       "5    3795\n",
       "Name: label, dtype: int64"
      ]
     },
     "execution_count": 6,
     "metadata": {},
     "output_type": "execute_result"
    },
    {
     "data": {
      "image/png": "[encoded data removed]",
      "text/plain": [
       "<matplotlib.figure.Figure at 0x10fcb0c10>"
      ]
     },
     "metadata": {},
     "output_type": "display_data"
    }
   ],
   "source": [
    "g = sns.countplot(Y_train)\n",
    "Y_train.value_counts()"
   ]
  },
  {
   "cell_type": "markdown",
   "metadata": {
    "deletable": true,
    "editable": true
   },
   "source": [
    "### Missing data? No"
   ]
  },
  {
   "cell_type": "code",
   "execution_count": 7,
   "metadata": {
    "collapsed": false,
    "deletable": true,
    "editable": true
   },
   "outputs": [
    {
     "name": "stdout",
     "output_type": "stream",
     "text": [
      "count       784\n",
      "unique        1\n",
      "top       False\n",
      "freq        784\n",
      "dtype: object\n",
      "\n",
      "0\n",
      "\n",
      "count       784\n",
      "unique        1\n",
      "top       False\n",
      "freq        784\n",
      "dtype: object\n"
     ]
    }
   ],
   "source": [
    "print X_train.isnull().any().describe()\n",
    "print \n",
    "print sum(Y_train.isnull())\n",
    "print \n",
    "print test.isnull().any().describe()"
   ]
  },
  {
   "cell_type": "markdown",
   "metadata": {
    "deletable": true,
    "editable": true
   },
   "source": [
    "# Data Munging"
   ]
  },
  {
   "cell_type": "markdown",
   "metadata": {
    "_cell_guid": "6812040d-80ad-43d2-a571-275f4f20067b",
    "_uuid": "2954681f25f0dcbe986e6914396cdbce61db591f",
    "deletable": true,
    "editable": true
   },
   "source": [
    "### Normalization"
   ]
  },
  {
   "cell_type": "code",
   "execution_count": 8,
   "metadata": {
    "_cell_guid": "cdc4340b-6e24-4e12-be99-ac806098ff17",
    "_execution_state": "idle",
    "_uuid": "b5d4f8fcf2a967e2c7d57daedf95aa8c5ab7f8cb",
    "collapsed": true,
    "deletable": true,
    "editable": true
   },
   "outputs": [],
   "source": [
    "# We perform a grayscale normalization to reduce the effect of illumination's differences. (not implemented)\n",
    "# Moreover the CNN converg faster on [0..1] data than on [0..255].\n",
    "# Normalize the data\n",
    "X_train = X_train / 255.0\n",
    "test = test / 255.0"
   ]
  },
  {
   "cell_type": "markdown",
   "metadata": {
    "_cell_guid": "7413df94-bcb9-4f75-b174-c127d4445766",
    "_uuid": "a66741bf1ac597094f3a3166877008feef27c519",
    "deletable": true,
    "editable": true
   },
   "source": [
    "### Reshape"
   ]
  },
  {
   "cell_type": "code",
   "execution_count": 9,
   "metadata": {
    "_cell_guid": "34b6a5f7-8fd2-4387-8ef4-c9dc19584fed",
    "_execution_state": "idle",
    "_uuid": "f0a6ad80dab8e0f2c2e46165ccd9cd82dd162bc3",
    "collapsed": true,
    "deletable": true,
    "editable": true
   },
   "outputs": [],
   "source": [
    "# Train and test images (28px x 28px) has been stock into pandas.Dataframe as 1D vectors of 784 values. We reshape all data to 28x28x1 3D matrices.\n",
    "# Keras requires an extra dimension in the end which correspond to channels. \n",
    "# MNIST images are gray scaled so it usonly one channel. For RGB images, there is 3 channels, \n",
    "# we would have reshaped 784px vectors to 28x28x3 3D matrices.\n",
    "# Reshape image in 3 dimensions (height = 28px, width = 28px , canal = 1)\n",
    "X_train = X_train.values.reshape(-1,28,28,1)\n",
    "test = test.values.reshape(-1,28,28,1)"
   ]
  },
  {
   "cell_type": "markdown",
   "metadata": {
    "_cell_guid": "8decd1ce-7b7e-431d-8458-eaca18e0e1f7",
    "_uuid": "f4fb5553e188d9956f5d8b3a5d275ab00ea667ce",
    "deletable": true,
    "editable": true
   },
   "source": [
    "Train and test images (28px x 28px) has been stock into pandas.Dataframe as 1D vectors of 784 values. We reshape all data to 28x28x1 3D matrices. \n",
    "\n",
    "Keras requires an extra dimension in the end which correspond to channels. MNIST images are gray scaled so it use only one channel. For RGB images, there is 3 channels, we would have reshaped 784px vectors to 28x28x3 3D matrices. "
   ]
  },
  {
   "cell_type": "markdown",
   "metadata": {
    "_cell_guid": "bdb422e2-bdec-444f-97a5-283a1e54bf2c",
    "_uuid": "39b7a31e843bac6b705461bcce89da216b91799e",
    "deletable": true,
    "editable": true
   },
   "source": [
    "### Label encoding"
   ]
  },
  {
   "cell_type": "code",
   "execution_count": 10,
   "metadata": {
    "_cell_guid": "4b7f3e78-44dc-4561-b1f0-9429ee024cf4",
    "_execution_state": "idle",
    "_uuid": "cabefd1478d5c1bdfe57fd6a34395340916a854c",
    "collapsed": true,
    "deletable": true,
    "editable": true
   },
   "outputs": [],
   "source": [
    "# Encode labels to one hot vectors (ex : 2 -> [0,0,1,0,0,0,0,0,0,0])\n",
    "Y_train = to_categorical(Y_train, num_classes = 10)"
   ]
  },
  {
   "cell_type": "markdown",
   "metadata": {
    "_cell_guid": "ae068bd8-b12e-4768-8a7e-0fc865dd7562",
    "_uuid": "dcfb688587dfc6feafd27442a3505e35dc01b82d",
    "deletable": true,
    "editable": true
   },
   "source": [
    "Labels are 10 digits numbers from 0 to 9. We need to encode these lables to one hot vectors (ex : 2 -> [0,0,1,0,0,0,0,0,0,0])."
   ]
  },
  {
   "cell_type": "markdown",
   "metadata": {
    "_cell_guid": "32152fc3-a570-4d64-8a7d-6c689a4acd33",
    "_uuid": "d8abbbf31483b94e1b29d07c4c8253d1311648a7",
    "deletable": true,
    "editable": true
   },
   "source": [
    "### Split training and valdiation set "
   ]
  },
  {
   "cell_type": "code",
   "execution_count": 11,
   "metadata": {
    "_cell_guid": "3a698301-9759-4279-ae48-fd980f89ea53",
    "_execution_state": "idle",
    "_uuid": "6e51c925c6e0f1b936679c9649fef345c853555f",
    "collapsed": true,
    "deletable": true,
    "editable": true
   },
   "outputs": [],
   "source": [
    "# Set the random seed\n",
    "random_seed = 2\n",
    "\n",
    "# Split the train and the validation set for the fitting\n",
    "X_train, X_val, Y_train, Y_val = train_test_split(X_train, Y_train, test_size = 0.1, random_state=random_seed)"
   ]
  },
  {
   "cell_type": "markdown",
   "metadata": {
    "_cell_guid": "adbeacf0-0dc0-4675-b2df-9c9663750f32",
    "_uuid": "60eed15ec5bc0d354385301789ecb8538fc02267",
    "deletable": true,
    "editable": true
   },
   "source": [
    "We can get a better sense for one of these examples by visualising the image and looking at the label."
   ]
  },
  {
   "cell_type": "code",
   "execution_count": 12,
   "metadata": {
    "_cell_guid": "5f76131b-4ba0-45f1-a98c-bd4e7d561793",
    "_execution_state": "idle",
    "_uuid": "e0dae8943d3d35f075dba3d7ba31bde1d4bf2ff4",
    "collapsed": false,
    "deletable": true,
    "editable": true
   },
   "outputs": [
    {
     "data": {
      "image/png": "[encoded data removed]",
      "text/plain": [
       "<matplotlib.figure.Figure at 0x10fcf0450>"
      ]
     },
     "metadata": {},
     "output_type": "display_data"
    }
   ],
   "source": [
    "# Some examples\n",
    "g = plt.imshow(X_train[0][:,:,0])"
   ]
  },
  {
   "cell_type": "markdown",
   "metadata": {
    "_cell_guid": "d5265777-aeb3-449d-b171-d88cad74c0a4",
    "_uuid": "5fa18b37a9acd9e098bac1d12264b0dd4310fdd3",
    "deletable": true,
    "editable": true
   },
   "source": [
    "# 3. CNN\n",
    "## 3.1 Define the model"
   ]
  },
  {
   "cell_type": "markdown",
   "metadata": {
    "_cell_guid": "504fa00e-148c-4364-9b68-218b3aaedfdb",
    "_uuid": "7697570491420f957f6e4d3569d51410b5277250",
    "deletable": true,
    "editable": true
   },
   "source": [
    "I used the Keras Sequential API, where you have just to add one layer at a time, starting from the input.\n",
    "\n",
    "The first is the convolutional (Conv2D) layer. It is like a set of learnable filters. I choosed to set 32 filters for the two firsts conv2D layers and 64 filters for the two last ones. Each filter transforms a part of the image (defined by the kernel size) using the kernel filter. The kernel filter matrix is applied on the whole image. Filters can be seen as a transformation of the image.\n",
    "\n",
    "The CNN can isolate features that are useful everywhere from these transformed images (feature maps).\n",
    "\n",
    "The second important layer in CNN is the pooling (MaxPool2D) layer. This layer simply acts as a downsampling filter. It looks at the 2 neighboring pixels and picks the maximal value. These are used to reduce computational cost, and to some extent also reduce overfitting. We have to choose the pooling size (i.e the area size pooled each time) more the pooling dimension is high, more the downsampling is important. \n",
    "\n",
    "Combining convolutional and pooling layers, CNN are able to combine local features and learn more global features of the image.\n",
    "\n",
    "Dropout is a regularization method, where a proportion of nodes in the layer are randomly ignored (setting their wieghts to zero) for each training sample. This drops randomly a propotion of the network and forces the network to learn features in a distributed way. This technique also improves generalization and reduces the overfitting. \n",
    "\n",
    "'relu' is the rectifier (activation function max(0,x). The rectifier activation function is used to add non linearity to the network. \n",
    "\n",
    "The Flatten layer is use to convert the final feature maps into a one single 1D vector. This flattening step is needed so that you can make use of fully connected layers after some convolutional/maxpool layers. It combines all the found local features of the previous convolutional layers.\n",
    "\n",
    "In the end i used the features in two fully-connected (Dense) layers which is just artificial an neural networks (ANN) classifier. In the last layer(Dense(10,activation=\"softmax\")) the net outputs distribution of probability of each class."
   ]
  },
  {
   "cell_type": "code",
   "execution_count": 14,
   "metadata": {
    "collapsed": false,
    "deletable": true,
    "editable": true
   },
   "outputs": [],
   "source": [
    "# Set a learning rate annealer\n",
    "learning_rate_reduction = ReduceLROnPlateau(monitor='val_acc', \n",
    "                                            patience=3, \n",
    "                                            verbose=1, \n",
    "                                            factor=0.5, \n",
    "                                            min_lr=0.00001)\n",
    "\n",
    "epochs = 2 # Turn epochs to 30 to get 0.9967 accuracy\n",
    "batch_size = 86\n",
    "\n",
    "img_rows, img_cols = 28, 28\n",
    "\n",
    "nb_filters_1 = 32 # 64\n",
    "nb_filters_2 = 64 # 128\n",
    "nb_filters_3 = 128 # 256\n",
    "nb_conv = 3\n",
    "nb_classes = Y_train.shape[1]\n"
   ]
  },
  {
   "cell_type": "code",
   "execution_count": 15,
   "metadata": {
    "_cell_guid": "1e0f3f88-2ad7-459e-8e02-aecc5f3511ae",
    "_execution_state": "idle",
    "_uuid": "f7991ef6871a26f9fa57acdcd460a69bab53e804",
    "collapsed": false,
    "deletable": true,
    "editable": true
   },
   "outputs": [
    {
     "name": "stdout",
     "output_type": "stream",
     "text": [
      "WARNING:tensorflow:From /usr/local/lib/python2.7/site-packages/keras/backend/tensorflow_backend.py:1210: calling reduce_prod (from tensorflow.python.ops.math_ops) with keep_dims is deprecated and will be removed in a future version.\n",
      "Instructions for updating:\n",
      "keep_dims is deprecated, use keepdims instead\n"
     ]
    }
   ],
   "source": [
    "# Set the CNN model ( original yassineghouzam )\n",
    "# my CNN architechture is In -> [[Conv2D->relu]*2 -> MaxPool2D -> Dropout]*2 -> Flatten -> Dense -> Dropout -> Out\n",
    "\n",
    "# keras.layers.Conv2D(filters, kernel_size, strides=(1, 1), padding='valid', data_format=None, dilation_rate=(1, 1), \n",
    "# activation=None, use_bias=True, kernel_initializer='glorot_uniform', bias_initializer='zeros', \n",
    "# kernel_regularizer=None, bias_regularizer=None, activity_regularizer=None, kernel_constraint=None, \n",
    "# bias_constraint=None)\n",
    "\n",
    "model = Sequential()\n",
    "model.add(Conv2D(filters = nb_filters_1, \n",
    "                 kernel_size = (5,5),\n",
    "                 padding = 'Same', \n",
    "                 activation ='relu', \n",
    "                 input_shape = (28,28,1)))\n",
    "model.add(Conv2D(filters = nb_filters_1, \n",
    "                 kernel_size = (5,5),\n",
    "                 padding = 'Same', \n",
    "                 activation ='relu'))\n",
    "model.add(MaxPool2D(pool_size=(2,2)))\n",
    "model.add(Dropout(0.25))\n",
    "model.add(Conv2D(filters = nb_filters_2, \n",
    "                 kernel_size = (3,3),\n",
    "                 padding = 'Same', \n",
    "                 activation ='relu'))\n",
    "model.add(Conv2D(filters = nb_filters_2, \n",
    "                 kernel_size = (3,3),\n",
    "                 padding = 'Same', \n",
    "                 activation ='relu'))\n",
    "model.add(MaxPool2D(pool_size=(2,2), strides=(2,2)))\n",
    "model.add(Dropout(0.25))\n",
    "\n",
    "model.add(Flatten())\n",
    "model.add(Dense(256, activation = \"relu\"))\n",
    "model.add(Dropout(0.5))\n",
    "model.add(Dense(nb_classes, activation = \"softmax\"))"
   ]
  },
  {
   "cell_type": "code",
   "execution_count": 16,
   "metadata": {
    "collapsed": false,
    "deletable": true,
    "editable": true
   },
   "outputs": [
    {
     "name": "stdout",
     "output_type": "stream",
     "text": [
      "_________________________________________________________________\n",
      "Layer (type)                 Output Shape              Param #   \n",
      "=================================================================\n",
      "conv2d_1 (Conv2D)            (None, 28, 28, 32)        832       \n",
      "_________________________________________________________________\n",
      "conv2d_2 (Conv2D)            (None, 28, 28, 32)        25632     \n",
      "_________________________________________________________________\n",
      "max_pooling2d_1 (MaxPooling2 (None, 14, 14, 32)        0         \n",
      "_________________________________________________________________\n",
      "dropout_1 (Dropout)          (None, 14, 14, 32)        0         \n",
      "_________________________________________________________________\n",
      "conv2d_3 (Conv2D)            (None, 14, 14, 64)        18496     \n",
      "_________________________________________________________________\n",
      "conv2d_4 (Conv2D)            (None, 14, 14, 64)        36928     \n",
      "_________________________________________________________________\n",
      "max_pooling2d_2 (MaxPooling2 (None, 7, 7, 64)          0         \n",
      "_________________________________________________________________\n",
      "dropout_2 (Dropout)          (None, 7, 7, 64)          0         \n",
      "_________________________________________________________________\n",
      "flatten_1 (Flatten)          (None, 3136)              0         \n",
      "_________________________________________________________________\n",
      "dense_1 (Dense)              (None, 256)               803072    \n",
      "_________________________________________________________________\n",
      "dropout_3 (Dropout)          (None, 256)               0         \n",
      "_________________________________________________________________\n",
      "dense_2 (Dense)              (None, 10)                2570      \n",
      "=================================================================\n",
      "Total params: 887,530\n",
      "Trainable params: 887,530\n",
      "Non-trainable params: 0\n",
      "_________________________________________________________________\n",
      "WARNING:tensorflow:From /usr/local/lib/python2.7/site-packages/keras/backend/tensorflow_backend.py:2745: calling reduce_sum (from tensorflow.python.ops.math_ops) with keep_dims is deprecated and will be removed in a future version.\n",
      "Instructions for updating:\n",
      "keep_dims is deprecated, use keepdims instead\n",
      "WARNING:tensorflow:From /usr/local/lib/python2.7/site-packages/keras/backend/tensorflow_backend.py:1299: calling reduce_mean (from tensorflow.python.ops.math_ops) with keep_dims is deprecated and will be removed in a future version.\n",
      "Instructions for updating:\n",
      "keep_dims is deprecated, use keepdims instead\n"
     ]
    }
   ],
   "source": [
    "model.summary()\n",
    "\n",
    "# Define the optimizer\n",
    "optimizer = RMSprop(lr=0.001, rho=0.9, epsilon=1e-08, decay=0.0)\n",
    "\n",
    "# Compile the model\n",
    "model.compile(optimizer = optimizer , loss = \"categorical_crossentropy\", metrics=[\"accuracy\"])"
   ]
  },
  {
   "cell_type": "code",
   "execution_count": 17,
   "metadata": {
    "collapsed": false,
    "deletable": true,
    "editable": true
   },
   "outputs": [
    {
     "name": "stdout",
     "output_type": "stream",
     "text": [
      "Train on 37800 samples, validate on 4200 samples\n",
      "Epoch 1/2\n",
      "148s - loss: 0.2385 - acc: 0.9235 - val_loss: 0.0676 - val_acc: 0.9786\n",
      "Epoch 2/2\n",
      "139s - loss: 0.0753 - acc: 0.9778 - val_loss: 0.0617 - val_acc: 0.9821\n"
     ]
    }
   ],
   "source": [
    "# Without data augmentation i obtained an accuracy of 0.98114\n",
    "history = model.fit(X_train, Y_train, batch_size = batch_size, epochs = epochs, \n",
    "         validation_data = (X_val, Y_val), verbose = 2)\n",
    "\n",
    "# With data augmentation to prevent overfitting (accuracy 0.99286)\n",
    "\n",
    "# datagen = ImageDataGenerator(\n",
    "#         featurewise_center=False,  # set input mean to 0 over the dataset\n",
    "#         samplewise_center=False,  # set each sample mean to 0\n",
    "#         featurewise_std_normalization=False,  # divide inputs by std of the dataset\n",
    "#         samplewise_std_normalization=False,  # divide each input by its std\n",
    "#         zca_whitening=False,  # apply ZCA whitening\n",
    "#         rotation_range=10,  # randomly rotate images in the range (degrees, 0 to 180)\n",
    "#         zoom_range = 0.1, # Randomly zoom image \n",
    "#         width_shift_range=0.1,  # randomly shift images horizontally (fraction of total width)\n",
    "#         height_shift_range=0.1,  # randomly shift images vertically (fraction of total height)\n",
    "#         horizontal_flip=False,  # randomly flip images\n",
    "#         vertical_flip=False)  # randomly flip images\n",
    "\n",
    "\n",
    "# datagen.fit(X_train)\n",
    "\n",
    "# Fit the model\n",
    "# history = model.fit_generator(datagen.flow(X_train,Y_train, batch_size=batch_size),\n",
    "#                               epochs = epochs, validation_data = (X_val,Y_val),\n",
    "#                               verbose = 2, steps_per_epoch=X_train.shape[0] // batch_size\n",
    "#                               , callbacks=[learning_rate_reduction])"
   ]
  },
  {
   "cell_type": "code",
   "execution_count": 18,
   "metadata": {
    "collapsed": true,
    "deletable": true,
    "editable": true
   },
   "outputs": [],
   "source": [
    "# translated to new keras version from https://www.kaggle.com/somshubramajumdar/deep-convolutional-network-using-keras\n",
    "# difference from model: \n",
    "#     - smaller kernel_size (3,3) instead of (5,5) for first two conv2d \n",
    "#     - YES (MaxPool2D(pool_size=(2,2))) after 1st and 2nd set of conv2d\n",
    "#           * This layer simply acts as a downsampling filter. \n",
    "#           * It looks at the 2 neighboring pixels and picks the maximal value. \n",
    "#           * These are used to reduce computational cost, and to some extent also reduce overfitting. \n",
    "#           * We have to choose the pooling size (i.e the area size pooled each time) more the pooling \n",
    "#             dimension is high, more the downsampling is important.\n",
    "#           * Combining convolutional and pooling layers, CNN are able to combine local features \n",
    "#             and learn more global features of the image.\n",
    "#     - NO Dropout(0.25) after 1st and 2nd set of conv2d -- JUST AFTER FLATTEN\n",
    "#           * Dropout is a regularization method, where a proportion of nodes in the layer are \n",
    "#             randomly ignored (setting their wieghts to zero) for each training sample. \n",
    "#           * This drops randomly a propotion of the network and forces the network to learn features \n",
    "#             in a distributed way. \n",
    "#           * This technique also improves generalization and reduces the overfitting. \n",
    "#             (NOT IMPORTANT IN THIS CASE SINCE TEST==TRAIN)\n",
    "#     - YES @END FLATTEN & DROPOUT but not sandwhiched by dense layers, dense come after faltten & dropout\n",
    "#           * The Flatten layer is use to convert the final feature maps into a one single 1D vector. \n",
    "#           * This flattening step is needed so that you can make use of fully connected layers after some \n",
    "#           * convolutional/maxpool layers. It combines all the found local features of the previous convolutional layers.\n",
    "# USES ADAM INSTEAD OF RMSPROP\n",
    "\n",
    "\n",
    "# cnn = models.Sequential()\n",
    "# cnn.add(conv.Convolution2D(nb_filters_1, \n",
    "#                            nb_conv, nb_conv,  \n",
    "#                            activation=\"relu\", \n",
    "#                            input_shape=(28, 28, 1), \n",
    "#                            border_mode='same'))\n",
    "# cnn.add(conv.Convolution2D(nb_filters_1, \n",
    "#                            nb_conv, \n",
    "#                            nb_conv, \n",
    "#                            activation=\"relu\", \n",
    "#                            border_mode='same'))\n",
    "# cnn.add(conv.MaxPooling2D(strides=(2,2)))\n",
    "# cnn.add(conv.Convolution2D(nb_filters_3, nb_conv, nb_conv, activation=\"relu\", border_mode='same'))\n",
    "# cnn.add(conv.Convolution2D(nb_filters_2, nb_conv, nb_conv, activation=\"relu\", border_mode='same'))\n",
    "# cnn.add(conv.MaxPooling2D(strides=(2,2)))\n",
    "# cnn.add(core.Flatten())\n",
    "# cnn.add(core.Dropout(0.2))\n",
    "# cnn.add(core.Dense(128, activation=\"relu\")) # 4096\n",
    "# cnn.add(core.Dense(nb_classes, activation=\"softmax\"))\n",
    "\n",
    "\n",
    "model2 = Sequential()\n",
    "\n",
    "model2.add(Conv2D(filters = nb_filters_1, \n",
    "                 kernel_size = (nb_conv,nb_conv),\n",
    "                 padding = 'Same', \n",
    "                 activation ='relu', \n",
    "                 input_shape = (28,28,1)))\n",
    "model2.add(Conv2D(filters = nb_filters_1, \n",
    "                 kernel_size = (nb_conv,nb_conv),\n",
    "                 padding = 'Same', \n",
    "                 activation ='relu'))\n",
    "model2.add(MaxPool2D(pool_size=(2,2)))\n",
    "\n",
    "model2.add(Conv2D(filters = nb_filters_2, \n",
    "                 kernel_size = (nb_conv,nb_conv),\n",
    "                 padding = 'Same', \n",
    "                 activation ='relu'))\n",
    "model2.add(Conv2D(filters = nb_filters_2, \n",
    "                 kernel_size = (nb_conv,nb_conv),\n",
    "                 padding = 'Same', \n",
    "                 activation ='relu'))\n",
    "model2.add(MaxPool2D(strides=(2,2)))\n",
    "\n",
    "model2.add(Flatten())\n",
    "model2.add(Dropout(0.2))\n",
    "model2.add(Dense(128, activation = \"relu\"))\n",
    "model2.add(Dense(nb_classes, activation = \"softmax\"))\n",
    "\n",
    "model2.summary()\n",
    "\n",
    "model2.compile(optimizer=\"adam\", loss=\"categorical_crossentropy\", metrics=[\"accuracy\"])\n",
    "history2 = model2.fit(X_train, Y_train, batch_size=batch_size, epochs=epochs,\n",
    "                     validation_data = (X_val, Y_val), verbose = 2)"
   ]
  },
  {
   "cell_type": "code",
   "execution_count": 74,
   "metadata": {
    "collapsed": false,
    "deletable": true,
    "editable": true
   },
   "outputs": [],
   "source": [
    "# model 3\n",
    "# https://yashk2810.github.io/Applying-Convolutional-Neural-Network-on-the-MNIST-dataset/\n",
    "\n",
    "# BATCH NORMALIZATION ADDIED BETWEEN CONV2D AND ACTIVATION\n",
    "# It’s a best practice to always do BatchNormalization. BatchNormalization normalizes the matrix \n",
    "# after it is been through a convolution layer so that the scale of each dimension remains the same. \n",
    "# It reduces the training time significantly.\n",
    "\n",
    "\n",
    "\n",
    "model3 = Sequential()\n",
    "\n",
    "model3.add(Conv2D(32, (3, 3), input_shape=(28,28,1)))\n",
    "model3.add(BatchNormalization(axis=-1))\n",
    "model3.add(Activation('relu'))\n",
    "model3.add(Conv2D(32, (3, 3)))\n",
    "model3.add(BatchNormalization(axis=-1))\n",
    "model3.add(Activation('relu'))\n",
    "model3.add(MaxPool2D(pool_size=(2,2)))\n",
    "\n",
    "model3.add(Conv2D(64,(3, 3)))\n",
    "model3.add(BatchNormalization(axis=-1))\n",
    "model3.add(Activation('relu'))\n",
    "model3.add(Conv2D(64, (3, 3)))\n",
    "model3.add(BatchNormalization(axis=-1))\n",
    "model3.add(Activation('relu'))\n",
    "model3.add(MaxPool2D(pool_size=(2,2)))\n",
    "\n",
    "model3.add(Flatten())\n",
    "\n",
    "# Fully connected layer\n",
    "model3.add(Dense(512))\n",
    "model3.add(BatchNormalization())\n",
    "model3.add(Activation('relu'))\n",
    "model3.add(Dropout(0.2))\n",
    "model3.add(Dense(10))\n",
    "\n",
    "model3.add(Activation('softmax'))"
   ]
  },
  {
   "cell_type": "code",
   "execution_count": 75,
   "metadata": {
    "collapsed": false,
    "deletable": true,
    "editable": true
   },
   "outputs": [
    {
     "name": "stdout",
     "output_type": "stream",
     "text": [
      "_________________________________________________________________\n",
      "Layer (type)                 Output Shape              Param #   \n",
      "=================================================================\n",
      "conv2d_19 (Conv2D)           (None, 26, 26, 32)        320       \n",
      "_________________________________________________________________\n",
      "batch_normalization_11 (Batc (None, 26, 26, 32)        128       \n",
      "_________________________________________________________________\n",
      "activation_11 (Activation)   (None, 26, 26, 32)        0         \n",
      "_________________________________________________________________\n",
      "conv2d_20 (Conv2D)           (None, 24, 24, 32)        9248      \n",
      "_________________________________________________________________\n",
      "batch_normalization_12 (Batc (None, 24, 24, 32)        128       \n",
      "_________________________________________________________________\n",
      "activation_12 (Activation)   (None, 24, 24, 32)        0         \n",
      "_________________________________________________________________\n",
      "max_pooling2d_8 (MaxPooling2 (None, 12, 12, 32)        0         \n",
      "_________________________________________________________________\n",
      "conv2d_21 (Conv2D)           (None, 10, 10, 64)        18496     \n",
      "_________________________________________________________________\n",
      "batch_normalization_13 (Batc (None, 10, 10, 64)        256       \n",
      "_________________________________________________________________\n",
      "activation_13 (Activation)   (None, 10, 10, 64)        0         \n",
      "_________________________________________________________________\n",
      "conv2d_22 (Conv2D)           (None, 8, 8, 64)          36928     \n",
      "_________________________________________________________________\n",
      "batch_normalization_14 (Batc (None, 8, 8, 64)          256       \n",
      "_________________________________________________________________\n",
      "activation_14 (Activation)   (None, 8, 8, 64)          0         \n",
      "_________________________________________________________________\n",
      "max_pooling2d_9 (MaxPooling2 (None, 4, 4, 64)          0         \n",
      "_________________________________________________________________\n",
      "flatten_4 (Flatten)          (None, 1024)              0         \n",
      "_________________________________________________________________\n",
      "dense_7 (Dense)              (None, 512)               524800    \n",
      "_________________________________________________________________\n",
      "batch_normalization_15 (Batc (None, 512)               2048      \n",
      "_________________________________________________________________\n",
      "activation_15 (Activation)   (None, 512)               0         \n",
      "_________________________________________________________________\n",
      "dropout_6 (Dropout)          (None, 512)               0         \n",
      "_________________________________________________________________\n",
      "dense_8 (Dense)              (None, 10)                5130      \n",
      "_________________________________________________________________\n",
      "activation_16 (Activation)   (None, 10)                0         \n",
      "=================================================================\n",
      "Total params: 597,738\n",
      "Trainable params: 596,330\n",
      "Non-trainable params: 1,408\n",
      "_________________________________________________________________\n",
      "Train on 37800 samples, validate on 4200 samples\n",
      "Epoch 1/2\n",
      "97s - loss: 0.0993 - acc: 0.9695 - val_loss: 0.2874 - val_acc: 0.9067\n",
      "Epoch 2/2\n",
      "98s - loss: 0.0349 - acc: 0.9891 - val_loss: 0.0487 - val_acc: 0.9838\n"
     ]
    }
   ],
   "source": [
    "model3.summary()\n",
    "\n",
    "model3.compile(optimizer=\"adam\", loss=\"categorical_crossentropy\", metrics=[\"accuracy\"])\n",
    "# keras.optimizers.Adam(lr=0.001, beta_1=0.9, beta_2=0.999, epsilon=None, decay=0.0, amsgrad=False)\n",
    "# optimizer = RMSprop(lr=0.001, rho=0.9, epsilon=1e-08, decay=0.0)\n",
    "history3 = model3.fit(X_train, Y_train, batch_size=batch_size, epochs=epochs,\n",
    "                     validation_data = (X_val, Y_val), verbose = 2)\n",
    "\n",
    "\n",
    "# model.compile(loss='categorical_crossentropy', optimizer=Adam(), metrics=['accuracy'])"
   ]
  },
  {
   "cell_type": "code",
   "execution_count": 80,
   "metadata": {
    "collapsed": false,
    "deletable": true,
    "editable": true
   },
   "outputs": [
    {
     "name": "stdout",
     "output_type": "stream",
     "text": [
      "_________________________________________________________________\n",
      "Layer (type)                 Output Shape              Param #   \n",
      "=================================================================\n",
      "conv2d_23 (Conv2D)           (None, 28, 28, 32)        320       \n",
      "_________________________________________________________________\n",
      "batch_normalization_16 (Batc (None, 28, 28, 32)        128       \n",
      "_________________________________________________________________\n",
      "activation_17 (Activation)   (None, 28, 28, 32)        0         \n",
      "_________________________________________________________________\n",
      "conv2d_24 (Conv2D)           (None, 28, 28, 32)        9248      \n",
      "_________________________________________________________________\n",
      "batch_normalization_17 (Batc (None, 28, 28, 32)        128       \n",
      "_________________________________________________________________\n",
      "activation_18 (Activation)   (None, 28, 28, 32)        0         \n",
      "_________________________________________________________________\n",
      "max_pooling2d_10 (MaxPooling (None, 14, 14, 32)        0         \n",
      "_________________________________________________________________\n",
      "conv2d_25 (Conv2D)           (None, 14, 14, 64)        18496     \n",
      "_________________________________________________________________\n",
      "batch_normalization_18 (Batc (None, 14, 14, 64)        256       \n",
      "_________________________________________________________________\n",
      "activation_19 (Activation)   (None, 14, 14, 64)        0         \n",
      "_________________________________________________________________\n",
      "conv2d_26 (Conv2D)           (None, 14, 14, 64)        36928     \n",
      "_________________________________________________________________\n",
      "batch_normalization_19 (Batc (None, 14, 14, 64)        256       \n",
      "_________________________________________________________________\n",
      "activation_20 (Activation)   (None, 14, 14, 64)        0         \n",
      "_________________________________________________________________\n",
      "max_pooling2d_11 (MaxPooling (None, 7, 7, 64)          0         \n",
      "_________________________________________________________________\n",
      "flatten_5 (Flatten)          (None, 3136)              0         \n",
      "_________________________________________________________________\n",
      "dropout_7 (Dropout)          (None, 3136)              0         \n",
      "_________________________________________________________________\n",
      "dense_9 (Dense)              (None, 128)               401536    \n",
      "_________________________________________________________________\n",
      "dense_10 (Dense)             (None, 10)                1290      \n",
      "=================================================================\n",
      "Total params: 468,586\n",
      "Trainable params: 468,202\n",
      "Non-trainable params: 384\n",
      "_________________________________________________________________\n",
      "Train on 37800 samples, validate on 4200 samples\n",
      "Epoch 1/2\n",
      "135s - loss: 0.1808 - acc: 0.9481 - val_loss: 0.2207 - val_acc: 0.9293\n",
      "Epoch 2/2\n",
      "128s - loss: 0.0557 - acc: 0.9828 - val_loss: 0.0570 - val_acc: 0.9843\n"
     ]
    }
   ],
   "source": [
    "# adding batch normalization to 2nd model\n",
    "\n",
    "model4 = Sequential()\n",
    "\n",
    "model4.add(Conv2D(filters = nb_filters_1, \n",
    "                 kernel_size = (nb_conv,nb_conv),\n",
    "                 padding = 'Same', \n",
    "                 input_shape = (28,28,1)))\n",
    "model4.add(BatchNormalization(axis=-1))\n",
    "model4.add(Activation('relu'))\n",
    "model4.add(Conv2D(filters = nb_filters_1, \n",
    "                 kernel_size = (nb_conv,nb_conv),\n",
    "                 padding = 'Same'))\n",
    "model4.add(BatchNormalization(axis=-1))\n",
    "model4.add(Activation('relu'))\n",
    "model4.add(MaxPool2D(pool_size=(2,2)))\n",
    "\n",
    "model4.add(Conv2D(filters = nb_filters_2, \n",
    "                 kernel_size = (nb_conv,nb_conv),\n",
    "                 padding = 'Same'))\n",
    "model4.add(BatchNormalization(axis=-1))\n",
    "model4.add(Activation('relu'))\n",
    "model4.add(Conv2D(filters = nb_filters_2, \n",
    "                 kernel_size = (nb_conv,nb_conv),\n",
    "                 padding = 'Same'))\n",
    "model4.add(BatchNormalization(axis=-1))\n",
    "model4.add(Activation('relu'))\n",
    "model4.add(MaxPool2D(strides=(2,2)))\n",
    "\n",
    "model4.add(Flatten())\n",
    "model4.add(Dropout(0.2))\n",
    "model4.add(Dense(128, activation = \"relu\"))\n",
    "model4.add(Dense(nb_classes, activation = \"softmax\"))\n",
    "\n",
    "model4.summary()\n",
    "\n",
    "model4.compile(optimizer=\"adam\", loss=\"categorical_crossentropy\", metrics=[\"accuracy\"])\n",
    "history4 = model4.fit(X_train, Y_train, batch_size=batch_size, epochs=epochs,\n",
    "                     validation_data = (X_val, Y_val), verbose = 2)"
   ]
  },
  {
   "cell_type": "markdown",
   "metadata": {
    "_cell_guid": "241a0f4f-13f5-4b13-be1e-4e3e4a714c06",
    "_uuid": "f24df64b223e0177c94025b6767ab19b722c5386",
    "deletable": true,
    "editable": true
   },
   "source": [
    "## 3.3 Data augmentation "
   ]
  },
  {
   "cell_type": "markdown",
   "metadata": {
    "_cell_guid": "e758621d-b27b-40ff-a93f-bebd2e0e5243",
    "_uuid": "0a1834f2a9f2db15dcaba4a84004b9627d714469",
    "deletable": true,
    "editable": true
   },
   "source": [
    "# 4. Evaluate the model\n",
    "## 4.1 Training and validation curves"
   ]
  },
  {
   "cell_type": "code",
   "execution_count": 29,
   "metadata": {
    "_cell_guid": "eb4b1b73-cbd4-40e8-9790-066fcef4c4c0",
    "_execution_state": "idle",
    "_uuid": "3a831860dd5bb65c8ead1ddcf4ae18ae20dd7f3e",
    "collapsed": false,
    "deletable": true,
    "editable": true
   },
   "outputs": [
    {
     "data": {
      "image/png": "[encoded data removed]",
      "text/plain": [
       "<matplotlib.figure.Figure at 0x126ca3790>"
      ]
     },
     "metadata": {},
     "output_type": "display_data"
    }
   ],
   "source": [
    "# Plot the loss and accuracy curves for training and validation \n",
    "fig, ax = plt.subplots(2,1)\n",
    "ax[0].plot(history.history['loss'], color='b', label=\"Training loss\")\n",
    "ax[0].plot(history.history['val_loss'], color='r', label=\"validation loss\",axes =ax[0])\n",
    "legend = ax[0].legend(loc='best', shadow=True)\n",
    "\n",
    "ax[1].plot(history.history['acc'], color='b', label=\"Training accuracy\")\n",
    "ax[1].plot(history.history['val_acc'], color='r',label=\"Validation accuracy\")\n",
    "legend = ax[1].legend(loc='best', shadow=True)"
   ]
  },
  {
   "cell_type": "code",
   "execution_count": 30,
   "metadata": {
    "collapsed": false,
    "deletable": true,
    "editable": true
   },
   "outputs": [
    {
     "data": {
      "image/png": "[encoded data removed]",
      "text/plain": [
       "<matplotlib.figure.Figure at 0x125f27dd0>"
      ]
     },
     "metadata": {},
     "output_type": "display_data"
    }
   ],
   "source": [
    "# Plot the loss and accuracy curves for training and validation \n",
    "fig, ax = plt.subplots(2,1)\n",
    "ax[0].plot(history2.history['loss'], color='b', label=\"Training loss\")\n",
    "ax[0].plot(history2.history['val_loss'], color='r', label=\"validation loss\",axes =ax[0])\n",
    "legend = ax[0].legend(loc='best', shadow=True)\n",
    "\n",
    "ax[1].plot(history2.history['acc'], color='b', label=\"Training accuracy\")\n",
    "ax[1].plot(history2.history['val_acc'], color='r',label=\"Validation accuracy\")\n",
    "legend = ax[1].legend(loc='best', shadow=True)"
   ]
  },
  {
   "cell_type": "code",
   "execution_count": 76,
   "metadata": {
    "collapsed": false,
    "deletable": true,
    "editable": true
   },
   "outputs": [
    {
     "data": {
      "image/png": "[encoded data removed]",
      "text/plain": [
       "<matplotlib.figure.Figure at 0x1244c9950>"
      ]
     },
     "metadata": {},
     "output_type": "display_data"
    }
   ],
   "source": [
    "# Plot the loss and accuracy curves for training and validation \n",
    "fig, ax = plt.subplots(2,1)\n",
    "ax[0].plot(history3.history['loss'], color='b', label=\"Training loss\")\n",
    "ax[0].plot(history3.history['val_loss'], color='r', label=\"validation loss\",axes =ax[0])\n",
    "legend = ax[0].legend(loc='best', shadow=True)\n",
    "\n",
    "ax[1].plot(history3.history['acc'], color='b', label=\"Training accuracy\")\n",
    "ax[1].plot(history3.history['val_acc'], color='r',label=\"Validation accuracy\")\n",
    "legend = ax[1].legend(loc='best', shadow=True)"
   ]
  },
  {
   "cell_type": "markdown",
   "metadata": {
    "_cell_guid": "de1c65bd-4a88-4351-9f4b-562e72e7e0fd",
    "_uuid": "63698d7d51381b33892ce164b0f21930abb3e937",
    "deletable": true,
    "editable": true
   },
   "source": [
    "## 4.2 Confusion matrix"
   ]
  },
  {
   "cell_type": "code",
   "execution_count": 31,
   "metadata": {
    "collapsed": true,
    "deletable": true,
    "editable": true
   },
   "outputs": [],
   "source": [
    "# Look at confusion matrix \n",
    "\n",
    "def plot_confusion_matrix(cm, classes,\n",
    "                          normalize=False,\n",
    "                          title='Confusion matrix',\n",
    "                          cmap=plt.cm.Blues):\n",
    "    \"\"\"\n",
    "    This function prints and plots the confusion matrix.\n",
    "    Normalization can be applied by setting `normalize=True`.\n",
    "    \"\"\"\n",
    "    plt.imshow(cm, interpolation='nearest', cmap=cmap)\n",
    "    plt.title(title)\n",
    "    plt.colorbar()\n",
    "    tick_marks = np.arange(len(classes))\n",
    "    plt.xticks(tick_marks, classes, rotation=45)\n",
    "    plt.yticks(tick_marks, classes)\n",
    "\n",
    "    if normalize:\n",
    "        cm = cm.astype('float') / cm.sum(axis=1)[:, np.newaxis]\n",
    "\n",
    "    thresh = cm.max() / 2.\n",
    "    for i, j in itertools.product(range(cm.shape[0]), range(cm.shape[1])):\n",
    "        plt.text(j, i, cm[i, j],\n",
    "                 horizontalalignment=\"center\",\n",
    "                 color=\"white\" if cm[i, j] > thresh else \"black\")\n",
    "\n",
    "    plt.tight_layout()\n",
    "    plt.ylabel('True label')\n",
    "    plt.xlabel('Predicted label')"
   ]
  },
  {
   "cell_type": "code",
   "execution_count": 32,
   "metadata": {
    "_cell_guid": "11361e73-8250-4bf5-a353-b0f8ea83e659",
    "_execution_state": "idle",
    "_uuid": "16e161179bf1b51ba66c39b2cead883f1db3a9c7",
    "collapsed": false,
    "deletable": true,
    "editable": true
   },
   "outputs": [
    {
     "data": {
      "image/png": "[encoded data removed]",
      "text/plain": [
       "<matplotlib.figure.Figure at 0x10e1edf90>"
      ]
     },
     "metadata": {},
     "output_type": "display_data"
    }
   ],
   "source": [
    "# Predict the values from the validation dataset\n",
    "Y_pred = model.predict(X_val)\n",
    "# Convert predictions classes to one hot vectors \n",
    "Y_pred_classes = np.argmax(Y_pred,axis = 1) \n",
    "# Convert validation observations to one hot vectors\n",
    "Y_true = np.argmax(Y_val,axis = 1) \n",
    "# compute the confusion matrix\n",
    "confusion_mtx = confusion_matrix(Y_true, Y_pred_classes) \n",
    "# plot the confusion matrix\n",
    "plot_confusion_matrix(confusion_mtx, classes = range(10)) "
   ]
  },
  {
   "cell_type": "code",
   "execution_count": 33,
   "metadata": {
    "collapsed": false,
    "deletable": true,
    "editable": true
   },
   "outputs": [
    {
     "data": {
      "image/png": "[encoded data removed]",
      "text/plain": [
       "<matplotlib.figure.Figure at 0x124341350>"
      ]
     },
     "metadata": {},
     "output_type": "display_data"
    }
   ],
   "source": [
    "# Predict the values from the validation dataset\n",
    "Y_pred2 = model2.predict(X_val)\n",
    "# Convert predictions classes to one hot vectors \n",
    "Y_pred_classes2 = np.argmax(Y_pred2,axis = 1) \n",
    "# Convert validation observations to one hot vectors\n",
    "# Y_true = np.argmax(Y_val,axis = 1) \n",
    "# compute the confusion matrix\n",
    "confusion_mtx2 = confusion_matrix(Y_true, Y_pred_classes2) \n",
    "# plot the confusion matrix\n",
    "plot_confusion_matrix(confusion_mtx2, classes = range(10)) "
   ]
  },
  {
   "cell_type": "code",
   "execution_count": 77,
   "metadata": {
    "collapsed": false,
    "deletable": true,
    "editable": true
   },
   "outputs": [
    {
     "data": {
      "image/png": "[encoded data removed]",
      "text/plain": [
       "<matplotlib.figure.Figure at 0x1279cce10>"
      ]
     },
     "metadata": {},
     "output_type": "display_data"
    }
   ],
   "source": [
    "# Predict the values from the validation dataset\n",
    "Y_pred3 = model3.predict(X_val)\n",
    "# Convert predictions classes to one hot vectors \n",
    "Y_pred_classes3 = np.argmax(Y_pred3,axis = 1) \n",
    "# Convert validation observations to one hot vectors\n",
    "# Y_true = np.argmax(Y_val,axis = 1) \n",
    "# compute the confusion matrix\n",
    "confusion_mtx3 = confusion_matrix(Y_true, Y_pred_classes3) \n",
    "# plot the confusion matrix\n",
    "plot_confusion_matrix(confusion_mtx3, classes = range(10)) "
   ]
  },
  {
   "cell_type": "markdown",
   "metadata": {
    "_cell_guid": "1b8a5cdc-9122-4e31-b9fa-0f6b57d33fc8",
    "_uuid": "ecb928433299b163ecc1f6c4e66d4ddcf38fe898",
    "deletable": true,
    "editable": true
   },
   "source": [
    "Here we can see that our CNN performs very well on all digits with few errors considering the size of the validation set (4 200 images).\n",
    "\n",
    "However, it seems that our CNN has some little troubles with the 4 digits, hey are misclassified as 9. Sometime it is very difficult to catch the difference between 4 and 9 when curves are smooth."
   ]
  },
  {
   "cell_type": "markdown",
   "metadata": {
    "_cell_guid": "ef54d686-6f79-4d96-a5a0-a64657bd742e",
    "_execution_state": "idle",
    "_uuid": "afd59cae1115188b77abd3471e5e89790cef80a0",
    "deletable": true,
    "editable": true
   },
   "source": [
    "Let's investigate for errors. \n",
    "\n",
    "I want to see the most important errors . For that purpose i need to get the difference between the probabilities of real value and the predicted ones in the results."
   ]
  },
  {
   "cell_type": "code",
   "execution_count": 55,
   "metadata": {
    "collapsed": true,
    "deletable": true,
    "editable": true
   },
   "outputs": [],
   "source": [
    "def display_errors(errors_index,img_errors,pred_errors, obs_errors):\n",
    "    \"\"\" This function shows 6 images with their predicted and real labels\"\"\"\n",
    "    n = 0\n",
    "    nrows = 2\n",
    "    ncols = 3\n",
    "    fig, ax = plt.subplots(nrows,ncols,sharex=True,sharey=True)\n",
    "    for row in range(nrows):\n",
    "        for col in range(ncols):\n",
    "            error = errors_index[n]\n",
    "            ax[row,col].imshow((img_errors[error]).reshape((28,28)))\n",
    "            ax[row,col].set_title(\"Predicted label :{}\\nTrue label :{}\".format(pred_errors[error],obs_errors[error]))\n",
    "            n += 1\n"
   ]
  },
  {
   "cell_type": "code",
   "execution_count": 56,
   "metadata": {
    "collapsed": true,
    "deletable": true,
    "editable": true
   },
   "outputs": [],
   "source": [
    "def det_most_important_errors(Y_pred_errors, Y_true_errors, ):\n",
    "    # Probabilities of the wrong predicted numbers\n",
    "    Y_pred_errors_prob = np.max(Y_pred_errors,axis = 1)\n",
    "\n",
    "    # Predicted probabilities of the true values in the error set\n",
    "    true_prob_errors = np.diagonal(np.take(Y_pred_errors, Y_true_errors, axis=1))\n",
    "\n",
    "    # Difference between the probability of the predicted label and the true label\n",
    "    delta_pred_true_errors = Y_pred_errors_prob - true_prob_errors\n",
    "\n",
    "    # Sorted list of the delta prob errors\n",
    "    sorted_delta_errors = np.argsort(delta_pred_true_errors)\n",
    "\n",
    "    return sorted_delta_errors"
   ]
  },
  {
   "cell_type": "code",
   "execution_count": 58,
   "metadata": {
    "_cell_guid": "7b0f31b8-c18b-4529-b0d8-eb4c31e30bbf",
    "_execution_state": "idle",
    "_uuid": "e7a3d6449b499a29db224e42e950f21ca1ec4e36",
    "collapsed": false,
    "deletable": true,
    "editable": true
   },
   "outputs": [
    {
     "data": {
      "image/png": "[encoded data removed]",
      "text/plain": [
       "<matplotlib.figure.Figure at 0x128e37b10>"
      ]
     },
     "metadata": {},
     "output_type": "display_data"
    }
   ],
   "source": [
    "# Display some error results \n",
    "\n",
    "# Errors are difference between predicted labels and true labels\n",
    "errors = (Y_pred_classes - Y_true != 0)\n",
    "\n",
    "Y_pred_classes_errors = Y_pred_classes[errors]\n",
    "Y_pred_errors = Y_pred[errors]\n",
    "Y_true_errors = Y_true[errors]\n",
    "X_val_errors = X_val[errors]\n",
    "\n",
    "most_important_errors = det_most_important_errors(Y_pred_errors, Y_true_errors)\n",
    "\n",
    "# Show the top 6 errors\n",
    "display_errors(most_important_errors[-6:], X_val_errors, Y_pred_classes_errors, Y_true_errors)"
   ]
  },
  {
   "cell_type": "code",
   "execution_count": 59,
   "metadata": {
    "collapsed": false,
    "deletable": true,
    "editable": true
   },
   "outputs": [
    {
     "data": {
      "image/png": "[encoded data removed]",
      "text/plain": [
       "<matplotlib.figure.Figure at 0x128f38950>"
      ]
     },
     "metadata": {},
     "output_type": "display_data"
    }
   ],
   "source": [
    "# Display some error results \n",
    "\n",
    "# Errors are difference between predicted labels and true labels\n",
    "errors2 = (Y_pred_classes2 - Y_true != 0)\n",
    "\n",
    "Y_pred_classes_errors2 = Y_pred_classes[errors2]\n",
    "Y_pred_errors2 = Y_pred[errors2]\n",
    "Y_true_errors2 = Y_true[errors2]\n",
    "X_val_errors2 = X_val[errors2]\n",
    "\n",
    "most_important_errors2 = det_most_important_errors(Y_pred_errors2, Y_true_errors2)\n",
    "\n",
    "# Show the top 6 errors\n",
    "display_errors(most_important_errors2[-6:], X_val_errors2, Y_pred_classes_errors2, Y_true_errors2)"
   ]
  },
  {
   "cell_type": "code",
   "execution_count": 79,
   "metadata": {
    "collapsed": false,
    "deletable": true,
    "editable": true
   },
   "outputs": [
    {
     "data": {
      "image/png": "[encoded data removed]",
      "text/plain": [
       "<matplotlib.figure.Figure at 0x128c66ed0>"
      ]
     },
     "metadata": {},
     "output_type": "display_data"
    }
   ],
   "source": [
    "# Display some error results \n",
    "\n",
    "# Errors are difference between predicted labels and true labels\n",
    "errors3 = (Y_pred_classes3 - Y_true != 0)\n",
    "\n",
    "Y_pred_classes_errors3 = Y_pred_classes[errors3]\n",
    "Y_pred_errors3 = Y_pred[errors3]\n",
    "Y_true_errors3 = Y_true[errors3]\n",
    "X_val_errors3 = X_val[errors3]\n",
    "\n",
    "most_important_errors3 = det_most_important_errors(Y_pred_errors3, Y_true_errors3)\n",
    "\n",
    "# Show the top 6 errors\n",
    "display_errors(most_important_errors3[-6:], X_val_errors3, Y_pred_classes_errors3, Y_true_errors3)"
   ]
  },
  {
   "cell_type": "code",
   "execution_count": 61,
   "metadata": {
    "collapsed": false,
    "deletable": true,
    "editable": true
   },
   "outputs": [
    {
     "data": {
      "text/plain": [
       "array([57, 52, 67, 27, 33, 31, 64, 18, 56, 72, 55, 26, 47, 71, 36, 65, 15,\n",
       "       41,  8,  1, 37, 14, 16, 46, 13, 23, 12,  7, 19, 59,  2, 25,  5,  4,\n",
       "       50, 20, 22, 11, 38, 70, 49, 35, 53, 24, 58,  0, 44, 28, 17, 69, 43,\n",
       "       48, 73,  6, 61, 66, 63, 29, 30, 42,  3, 34,  9, 32, 60, 40, 51, 10,\n",
       "       21, 39, 54, 68, 62, 74, 45])"
      ]
     },
     "execution_count": 61,
     "metadata": {},
     "output_type": "execute_result"
    }
   ],
   "source": [
    "most_important_errors"
   ]
  },
  {
   "cell_type": "code",
   "execution_count": 62,
   "metadata": {
    "collapsed": false,
    "deletable": true,
    "editable": true
   },
   "outputs": [
    {
     "data": {
      "text/plain": [
       "array([29, 31, 24, 45, 21, 20, 34, 35, 15, 36, 13, 27, 37, 42,  2,  4, 44,\n",
       "       40, 17, 30,  1, 10,  7, 11, 32,  5, 19, 28, 14,  0, 23, 43, 26,  6,\n",
       "       39, 16,  3,  8, 18, 33,  9, 12, 22, 41, 38, 46, 25])"
      ]
     },
     "execution_count": 62,
     "metadata": {},
     "output_type": "execute_result"
    }
   ],
   "source": [
    "most_important_errors2"
   ]
  },
  {
   "cell_type": "markdown",
   "metadata": {
    "_cell_guid": "d21c4caf-e699-4647-8ef4-e60e868607ae",
    "_execution_state": "idle",
    "_uuid": "afc408bd5545a6a2b2d4e04989890546263cb642",
    "deletable": true,
    "editable": true
   },
   "source": [
    "The most important errors are also the most intrigous. \n",
    "\n",
    "For those six case, the model is not ridiculous. Some of these errors can also be made by humans, especially for one the 9 that is very close to a 4. The last 9 is also very misleading, it seems for me that is a 0."
   ]
  },
  {
   "cell_type": "code",
   "execution_count": 29,
   "metadata": {
    "_cell_guid": "05ff3b9f-c3bb-4cec-a8c2-2c128e8f15b3",
    "_execution_state": "idle",
    "_uuid": "7f17e7bf0a54a01a52fef2d554780f6bc6580dc6",
    "collapsed": true,
    "deletable": true,
    "editable": true
   },
   "outputs": [],
   "source": [
    "# predict results\n",
    "results = model.predict(test)\n",
    "\n",
    "# select the indix with the maximum probability\n",
    "results = np.argmax(results,axis = 1)\n",
    "\n",
    "results = pd.Series(results,name=\"Label\")\n",
    "\n",
    "submission = pd.concat([pd.Series(range(1,28001),name = \"ImageId\"),results],axis = 1)\n",
    "\n",
    "submission.to_csv(\"cnn_mnist_datagen.csv\",index=False)"
   ]
  },
  {
   "cell_type": "code",
   "execution_count": 60,
   "metadata": {
    "_cell_guid": "b5f1f39f-13b8-439a-8913-0f120e3d47a9",
    "_execution_state": "idle",
    "_uuid": "369dfaab09240f3f12bcff91953ffd315ab84985",
    "collapsed": true,
    "deletable": true,
    "editable": true
   },
   "outputs": [],
   "source": [
    "# predict results\n",
    "results2 = model2.predict(test)\n",
    "\n",
    "# select the indix with the maximum probability\n",
    "results2 = np.argmax(results2,axis = 1)\n",
    "\n",
    "results2 = pd.Series(results2,name=\"Label\")\n",
    "\n",
    "submission2 = pd.concat([pd.Series(range(1,28001),name = \"ImageId\"),results2],axis = 1)\n",
    "\n",
    "submission2.to_csv(\"cnn_mnist_datagen2.csv\",index=False)"
   ]
  },
  {
   "cell_type": "markdown",
   "metadata": {
    "_cell_guid": "b1c2790e-4313-4b47-937a-b4eaaae6d845",
    "_uuid": "0ec3bcf47cd49afea61aa9ed60ced64de8fc2d3d",
    "deletable": true,
    "editable": true
   },
   "source": [
    "\n",
    "\n",
    "** you found this notebook helpful or you just liked it , some upvotes would be very much appreciated - That will keep me motivated :)**\n"
   ]
  }
 ],
 "metadata": {
  "kernelspec": {
   "display_name": "Python 2",
   "language": "python",
   "name": "python2"
  },
  "language_info": {
   "codemirror_mode": {
    "name": "ipython",
    "version": 2
   },
   "file_extension": ".py",
   "mimetype": "text/x-python",
   "name": "python",
   "nbconvert_exporter": "python",
   "pygments_lexer": "ipython2",
   "version": "2.7.13"
  }
 },
 "nbformat": 4,
 "nbformat_minor": 2
}
